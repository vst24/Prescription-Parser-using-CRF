{
 "cells": [
  {
   "cell_type": "markdown",
   "metadata": {},
   "source": [
    "# Task 1: Create a Prescription Parser using CRF\n",
    "This task tests your ability to build a Doctor Prescription Parser with the help of CRF model\n",
    "\n",
    "Your job is to build a Prescription Parser that takes a prescription (sentence) as an input and find / label the words in that sentence with one of the already pre-defined labels\n",
    "\n",
    "### Problem: SEQUENCE PREDICTION - Label words in a sentence\n",
    "#### Input : Doctor Prescription in the form of a sentence split into tokens\n",
    "- Ex: Take 2 tablets once a day for 10 days\n",
    "\n",
    "#### Output : FHIR Labels\n",
    "- ('Take', 'Method')\n",
    "- ('2', 'Qty') \n",
    "- ('tablets', 'Form')\n",
    "- ('once', 'Frequency')\n",
    "- ('a', 'Period') \n",
    "- ('day', 'PeriodUnit')\n",
    "- ('for', 'FOR')\n",
    "- ('10', 'Duration')\n",
    "- ('days', 'DurationUnit') "
   ]
  },
  {
   "cell_type": "markdown",
   "metadata": {},
   "source": [
    "### Major Steps\n",
    "- Install necessary library\n",
    "- Import the libraries\n",
    "- Create training data with labels\n",
    "    - Split the sentence into tokens\n",
    "    - Compute POS tags\n",
    "    - Create triples\n",
    "- Extract features\n",
    "- Split the data into training and testing set\n",
    "- Create CRF model\n",
    "- Save the CRF model\n",
    "- Load the CRF model\n",
    "- Predict on test data\n",
    "- Accuracy"
   ]
  },
  {
   "cell_type": "markdown",
   "metadata": {},
   "source": [
    "#### Install necesaary library"
   ]
  },
  {
   "cell_type": "code",
   "execution_count": 1,
   "metadata": {},
   "outputs": [],
   "source": [
    "# !pip install sklearn_crfsuite nltk"
   ]
  },
  {
   "cell_type": "markdown",
   "metadata": {},
   "source": [
    "#### Import the necessary libraries"
   ]
  },
  {
   "cell_type": "code",
   "execution_count": 2,
   "metadata": {},
   "outputs": [
    {
     "name": "stderr",
     "output_type": "stream",
     "text": [
      "[nltk_data] Downloading package averaged_perceptron_tagger to\n",
      "[nltk_data]     C:\\Users\\chail\\AppData\\Roaming\\nltk_data...\n",
      "[nltk_data]   Package averaged_perceptron_tagger is already up-to-\n",
      "[nltk_data]       date!\n",
      "[nltk_data] Downloading package punkt to\n",
      "[nltk_data]     C:\\Users\\chail\\AppData\\Roaming\\nltk_data...\n",
      "[nltk_data]   Package punkt is already up-to-date!\n",
      "[nltk_data] Downloading package averaged_perceptron_tagger to\n",
      "[nltk_data]     C:\\Users\\chail\\AppData\\Roaming\\nltk_data...\n",
      "[nltk_data]   Package averaged_perceptron_tagger is already up-to-\n",
      "[nltk_data]       date!\n"
     ]
    },
    {
     "data": {
      "text/plain": [
       "True"
      ]
     },
     "execution_count": 2,
     "metadata": {},
     "output_type": "execute_result"
    }
   ],
   "source": [
    "import nltk\n",
    "import numpy as np\n",
    "import sklearn_crfsuite\n",
    "from sklearn_crfsuite import metrics\n",
    "from sklearn.model_selection import train_test_split\n",
    "from nltk.tag import pos_tag\n",
    "from sklearn_crfsuite import CRF, metrics\n",
    "from sklearn.metrics import make_scorer,confusion_matrix\n",
    "from pprint import pprint\n",
    "from sklearn.metrics import f1_score,classification_report\n",
    "from sklearn.pipeline import Pipeline\n",
    "import string\n",
    "import nltk\n",
    "nltk.download('averaged_perceptron_tagger')\n",
    "import pycrfsuite\n",
    "import nltk\n",
    "nltk.download('punkt')\n",
    "nltk.download('averaged_perceptron_tagger')\n"
   ]
  },
  {
   "cell_type": "markdown",
   "metadata": {},
   "source": [
    "### Input data (GIVEN)\n",
    "#### Creating the inputs to the ML model in the following form:\n",
    "- sigs --> ['take 3 tabs for 10 days']       INPUT SIG\n",
    "- input_sigs --> [['take', '3', 'tabs', 'for', '10', 'days']]      TOKENS\n",
    "- output_labels --> [['Method','Qty', 'Form', 'FOR', 'Duration', 'DurationUnit']]       LABELS"
   ]
  },
  {
   "cell_type": "code",
   "execution_count": 3,
   "metadata": {},
   "outputs": [],
   "source": [
    "sigs = [\"for 5 to 6 days\", \"inject 2 units\", \"x 2 weeks\", \"x 3 days\", \"every day\", \"every 2 weeks\", \"every 3 days\", \"every 1 to 2 months\", \"every 2 to 6 weeks\", \"every 4 to 6 days\", \"take two to four tabs\", \"take 2 to 4 tabs\", \"take 3 tabs orally bid for 10 days at bedtime\", \"swallow three capsules tid orally\", \"take 2 capsules po every 6 hours\", \"take 2 tabs po for 10 days\", \"take 100 caps by mouth tid for 10 weeks\", \"take 2 tabs after an hour\", \"2 tabs every 4-6 hours\", \"every 4 to 6 hours\", \"q46h\", \"q4-6h\", \"2 hours before breakfast\", \"before 30 mins at bedtime\", \"30 mins before bed\", \"and 100 tabs twice a month\", \"100 tabs twice a month\", \"100 tabs once a month\", \"100 tabs thrice a month\", \"3 tabs daily for 3 days then 1 tab per day at bed\", \"30 tabs 10 days tid\", \"take 30 tabs for 10 days three times a day\", \"qid q6h\", \"bid\", \"qid\", \"30 tabs before dinner and bedtime\", \"30 tabs before dinner & bedtime\", \"take 3 tabs at bedtime\", \"30 tabs thrice daily for 10 days \", \"30 tabs for 10 days three times a day\", \"Take 2 tablets a day\", \"qid for 10 days\", \"every day\", \"take 2 caps at bedtime\", \"apply 3 drops before bedtime\", \"take three capsules daily\", \"swallow 3 pills once a day\", \"swallow three pills thrice a day\", \"apply daily\", \"apply three drops before bedtime\", \"every 6 hours\", \"before food\", \"after food\", \"for 20 days\", \"for twenty days\", \"with meals\"]\n",
    "input_sigs = [['for', '5', 'to', '6', 'days'], ['inject', '2', 'units'], ['x', '2', 'weeks'], ['x', '3', 'days'], ['every', 'day'], ['every', '2', 'weeks'], ['every', '3', 'days'], ['every', '1', 'to', '2', 'months'], ['every', '2', 'to', '6', 'weeks'], ['every', '4', 'to', '6', 'days'], ['take', 'two', 'to', 'four', 'tabs'], ['take', '2', 'to', '4', 'tabs'], ['take', '3', 'tabs', 'orally', 'bid', 'for', '10', 'days', 'at', 'bedtime'], ['swallow', 'three', 'capsules', 'tid', 'orally'], ['take', '2', 'capsules', 'po', 'every', '6', 'hours'], ['take', '2', 'tabs', 'po', 'for', '10', 'days'], ['take', '100', 'caps', 'by', 'mouth', 'tid', 'for', '10', 'weeks'], ['take', '2', 'tabs', 'after', 'an', 'hour'], ['2', 'tabs', 'every', '4-6', 'hours'], ['every', '4', 'to', '6', 'hours'], ['q46h'], ['q4-6h'], ['2', 'hours', 'before', 'breakfast'], ['before', '30', 'mins', 'at', 'bedtime'], ['30', 'mins', 'before', 'bed'], ['and', '100', 'tabs', 'twice', 'a', 'month'], ['100', 'tabs', 'twice', 'a', 'month'], ['100', 'tabs', 'once', 'a', 'month'], ['100', 'tabs', 'thrice', 'a', 'month'], ['3', 'tabs', 'daily', 'for', '3', 'days', 'then', '1', 'tab', 'per', 'day', 'at', 'bed'], ['30', 'tabs', '10', 'days', 'tid'], ['take', '30', 'tabs', 'for', '10', 'days', 'three', 'times', 'a', 'day'], ['qid', 'q6h'], ['bid'], ['qid'], ['30', 'tabs', 'before', 'dinner', 'and', 'bedtime'], ['30', 'tabs', 'before', 'dinner', '&', 'bedtime'], ['take', '3', 'tabs', 'at', 'bedtime'], ['30', 'tabs', 'thrice', 'daily', 'for', '10', 'days'], ['30', 'tabs', 'for', '10', 'days', 'three', 'times', 'a', 'day'], ['take', '2', 'tablets', 'a', 'day'], ['qid', 'for', '10', 'days'], ['every', 'day'], ['take', '2', 'caps', 'at', 'bedtime'], ['apply', '3', 'drops', 'before', 'bedtime'], ['take', 'three', 'capsules', 'daily'], ['swallow', '3', 'pills', 'once', 'a', 'day'], ['swallow', 'three', 'pills', 'thrice', 'a', 'day'], ['apply', 'daily'], ['apply', 'three', 'drops', 'before', 'bedtime'], ['every', '6', 'hours'], ['before', 'food'], ['after', 'food'], ['for', '20', 'days'], ['for', 'twenty', 'days'], ['with', 'meals']]\n",
    "output_labels = [['FOR', 'Duration', 'TO', 'DurationMax', 'DurationUnit'], ['Method', 'Qty', 'Form'], ['FOR', 'Duration', 'DurationUnit'], ['FOR', 'Duration', 'DurationUnit'], ['EVERY', 'Period'], ['EVERY', 'Period', 'PeriodUnit'], ['EVERY', 'Period', 'PeriodUnit'], ['EVERY', 'Period', 'TO', 'PeriodMax', 'PeriodUnit'], ['EVERY', 'Period', 'TO', 'PeriodMax', 'PeriodUnit'], ['EVERY', 'Period', 'TO', 'PeriodMax', 'PeriodUnit'], ['Method', 'Qty', 'TO', 'Qty', 'Form'], ['Method', 'Qty', 'TO', 'Qty', 'Form'], ['Method', 'Qty', 'Form', 'PO', 'BID', 'FOR', 'Duration', 'DurationUnit', 'AT', 'WHEN'], ['Method', 'Qty', 'Form', 'TID', 'PO'], ['Method', 'Qty', 'Form', 'PO', 'EVERY', 'Period', 'PeriodUnit'], ['Method', 'Qty', 'Form', 'PO', 'FOR', 'Duration', 'DurationUnit'], ['Method', 'Qty', 'Form', 'BY', 'PO', 'TID', 'FOR', 'Duration', 'DurationUnit'], ['Method', 'Qty', 'Form', 'AFTER', 'Period', 'PeriodUnit'], ['Qty', 'Form', 'EVERY', 'Period', 'PeriodUnit'], ['EVERY', 'Period', 'TO', 'PeriodMax', 'PeriodUnit'], ['Q46H'], ['Q4-6H'], ['Qty', 'PeriodUnit', 'BEFORE', 'WHEN'], ['BEFORE', 'Qty', 'M', 'AT', 'WHEN'], ['Qty', 'M', 'BEFORE', 'WHEN'], ['AND', 'Qty', 'Form', 'Frequency', 'Period', 'PeriodUnit'], ['Qty', 'Form', 'Frequency', 'Period', 'PeriodUnit'], ['Qty', 'Form', 'Frequency', 'Period', 'PeriodUnit'], ['Qty', 'Form', 'Frequency', 'Period', 'PeriodUnit'], ['Qty', 'Form', 'Frequency', 'FOR', 'Duration', 'DurationUnit', 'THEN', 'Qty', 'Form', 'Frequency', 'PeriodUnit', 'AT', 'WHEN'], ['Qty', 'Form', 'Duration', 'DurationUnit', 'TID'], ['Method', 'Qty', 'Form', 'FOR', 'Duration', 'DurationUnit', 'Qty', 'TIMES', 'Period', 'PeriodUnit'], ['QID', 'Q6H'], ['BID'], ['QID'],['Qty', 'Form', 'BEFORE', 'WHEN', 'AND', 'WHEN'], ['Qty', 'Form', 'BEFORE', 'WHEN', 'AND', 'WHEN'], ['Method', 'Qty', 'Form', 'AT', 'WHEN'], ['Qty', 'Form', 'Frequency', 'DAILY', 'FOR', 'Duration', 'DurationUnit'], ['Qty', 'Form', 'FOR', 'Duration', 'DurationUnit', 'Frequency', 'TIMES', 'Period', 'PeriodUnit'], ['Method', 'Qty', 'Form', 'Period', 'PeriodUnit'], ['QID', 'FOR', 'Duration', 'DurationUnit'], ['EVERY', 'PeriodUnit'], ['Method', 'Qty', 'Form', 'AT', 'WHEN'], ['Method', 'Qty', 'Form', 'BEFORE', 'WHEN'], ['Method', 'Qty', 'Form', 'DAILY'], ['Method', 'Qty', 'Form', 'Frequency', 'Period', 'PeriodUnit'], ['Method', 'Qty', 'Form', 'Frequency', 'Period', 'PeriodUnit'], ['Method', 'DAILY'], ['Method', 'Qty', 'Form', 'BEFORE', 'WHEN'], ['EVERY', 'Period', 'PeriodUnit'], ['BEFORE', 'FOOD'], ['AFTER', 'FOOD'], ['FOR', 'Duration', 'DurationUnit'], ['FOR', 'Duration', 'DurationUnit'], ['WITH', 'FOOD']]"
   ]
  },
  {
   "cell_type": "code",
   "execution_count": 4,
   "metadata": {},
   "outputs": [
    {
     "data": {
      "text/plain": [
       "(56, 56, 56)"
      ]
     },
     "execution_count": 4,
     "metadata": {},
     "output_type": "execute_result"
    }
   ],
   "source": [
    "len(sigs), len(input_sigs) , len(output_labels)"
   ]
  },
  {
   "cell_type": "markdown",
   "metadata": {},
   "source": [
    "### Creating a Tuples Maker method\n",
    "Create the tuples as given below by writing a function **tuples_maker(input_sigs, output_labels)** and returns **output** as given below\n",
    "\n",
    "Input(s): \n",
    "- input_sigs\n",
    "- output_lables\n",
    "\n",
    "Output:\n",
    "\n",
    "[[('for', 'FOR'),\n",
    "  ('5', 'Duration'),\n",
    "  ('to', 'TO'),\n",
    "  ('6', 'DurationMax'),\n",
    "  ('days', 'DurationUnit')], [second sentence], ...]"
   ]
  },
  {
   "cell_type": "code",
   "execution_count": 5,
   "metadata": {},
   "outputs": [],
   "source": [
    "def tuples_maker(input_sigs, output_labels):\n",
    "    sample_data=[]\n",
    "    \n",
    "    for a,b in zip(input_sigs, output_labels):\n",
    "        inner_data=[]\n",
    "        for c,d in zip(a, b):\n",
    "            element=(c,d)\n",
    "            inner_data.append(element) #sample_data\n",
    "        sample_data.append(inner_data)\n",
    "    \n",
    "    return sample_data"
   ]
  },
  {
   "cell_type": "code",
   "execution_count": 6,
   "metadata": {},
   "outputs": [
    {
     "name": "stdout",
     "output_type": "stream",
     "text": [
      "[[('for', 'FOR'), ('5', 'Duration'), ('to', 'TO'), ('6', 'DurationMax'), ('days', 'DurationUnit')], [('inject', 'Method'), ('2', 'Qty'), ('units', 'Form')], [('x', 'FOR'), ('2', 'Duration'), ('weeks', 'DurationUnit')], [('x', 'FOR'), ('3', 'Duration'), ('days', 'DurationUnit')], [('every', 'EVERY'), ('day', 'Period')], [('every', 'EVERY'), ('2', 'Period'), ('weeks', 'PeriodUnit')], [('every', 'EVERY'), ('3', 'Period'), ('days', 'PeriodUnit')], [('every', 'EVERY'), ('1', 'Period'), ('to', 'TO'), ('2', 'PeriodMax'), ('months', 'PeriodUnit')], [('every', 'EVERY'), ('2', 'Period'), ('to', 'TO'), ('6', 'PeriodMax'), ('weeks', 'PeriodUnit')], [('every', 'EVERY'), ('4', 'Period'), ('to', 'TO'), ('6', 'PeriodMax'), ('days', 'PeriodUnit')], [('take', 'Method'), ('two', 'Qty'), ('to', 'TO'), ('four', 'Qty'), ('tabs', 'Form')], [('take', 'Method'), ('2', 'Qty'), ('to', 'TO'), ('4', 'Qty'), ('tabs', 'Form')], [('take', 'Method'), ('3', 'Qty'), ('tabs', 'Form'), ('orally', 'PO'), ('bid', 'BID'), ('for', 'FOR'), ('10', 'Duration'), ('days', 'DurationUnit'), ('at', 'AT'), ('bedtime', 'WHEN')], [('swallow', 'Method'), ('three', 'Qty'), ('capsules', 'Form'), ('tid', 'TID'), ('orally', 'PO')], [('take', 'Method'), ('2', 'Qty'), ('capsules', 'Form'), ('po', 'PO'), ('every', 'EVERY'), ('6', 'Period'), ('hours', 'PeriodUnit')], [('take', 'Method'), ('2', 'Qty'), ('tabs', 'Form'), ('po', 'PO'), ('for', 'FOR'), ('10', 'Duration'), ('days', 'DurationUnit')], [('take', 'Method'), ('100', 'Qty'), ('caps', 'Form'), ('by', 'BY'), ('mouth', 'PO'), ('tid', 'TID'), ('for', 'FOR'), ('10', 'Duration'), ('weeks', 'DurationUnit')], [('take', 'Method'), ('2', 'Qty'), ('tabs', 'Form'), ('after', 'AFTER'), ('an', 'Period'), ('hour', 'PeriodUnit')], [('2', 'Qty'), ('tabs', 'Form'), ('every', 'EVERY'), ('4-6', 'Period'), ('hours', 'PeriodUnit')], [('every', 'EVERY'), ('4', 'Period'), ('to', 'TO'), ('6', 'PeriodMax'), ('hours', 'PeriodUnit')], [('q46h', 'Q46H')], [('q4-6h', 'Q4-6H')], [('2', 'Qty'), ('hours', 'PeriodUnit'), ('before', 'BEFORE'), ('breakfast', 'WHEN')], [('before', 'BEFORE'), ('30', 'Qty'), ('mins', 'M'), ('at', 'AT'), ('bedtime', 'WHEN')], [('30', 'Qty'), ('mins', 'M'), ('before', 'BEFORE'), ('bed', 'WHEN')], [('and', 'AND'), ('100', 'Qty'), ('tabs', 'Form'), ('twice', 'Frequency'), ('a', 'Period'), ('month', 'PeriodUnit')], [('100', 'Qty'), ('tabs', 'Form'), ('twice', 'Frequency'), ('a', 'Period'), ('month', 'PeriodUnit')], [('100', 'Qty'), ('tabs', 'Form'), ('once', 'Frequency'), ('a', 'Period'), ('month', 'PeriodUnit')], [('100', 'Qty'), ('tabs', 'Form'), ('thrice', 'Frequency'), ('a', 'Period'), ('month', 'PeriodUnit')], [('3', 'Qty'), ('tabs', 'Form'), ('daily', 'Frequency'), ('for', 'FOR'), ('3', 'Duration'), ('days', 'DurationUnit'), ('then', 'THEN'), ('1', 'Qty'), ('tab', 'Form'), ('per', 'Frequency'), ('day', 'PeriodUnit'), ('at', 'AT'), ('bed', 'WHEN')], [('30', 'Qty'), ('tabs', 'Form'), ('10', 'Duration'), ('days', 'DurationUnit'), ('tid', 'TID')], [('take', 'Method'), ('30', 'Qty'), ('tabs', 'Form'), ('for', 'FOR'), ('10', 'Duration'), ('days', 'DurationUnit'), ('three', 'Qty'), ('times', 'TIMES'), ('a', 'Period'), ('day', 'PeriodUnit')], [('qid', 'QID'), ('q6h', 'Q6H')], [('bid', 'BID')], [('qid', 'QID')], [('30', 'Qty'), ('tabs', 'Form'), ('before', 'BEFORE'), ('dinner', 'WHEN'), ('and', 'AND'), ('bedtime', 'WHEN')], [('30', 'Qty'), ('tabs', 'Form'), ('before', 'BEFORE'), ('dinner', 'WHEN'), ('&', 'AND'), ('bedtime', 'WHEN')], [('take', 'Method'), ('3', 'Qty'), ('tabs', 'Form'), ('at', 'AT'), ('bedtime', 'WHEN')], [('30', 'Qty'), ('tabs', 'Form'), ('thrice', 'Frequency'), ('daily', 'DAILY'), ('for', 'FOR'), ('10', 'Duration'), ('days', 'DurationUnit')], [('30', 'Qty'), ('tabs', 'Form'), ('for', 'FOR'), ('10', 'Duration'), ('days', 'DurationUnit'), ('three', 'Frequency'), ('times', 'TIMES'), ('a', 'Period'), ('day', 'PeriodUnit')], [('take', 'Method'), ('2', 'Qty'), ('tablets', 'Form'), ('a', 'Period'), ('day', 'PeriodUnit')], [('qid', 'QID'), ('for', 'FOR'), ('10', 'Duration'), ('days', 'DurationUnit')], [('every', 'EVERY'), ('day', 'PeriodUnit')], [('take', 'Method'), ('2', 'Qty'), ('caps', 'Form'), ('at', 'AT'), ('bedtime', 'WHEN')], [('apply', 'Method'), ('3', 'Qty'), ('drops', 'Form'), ('before', 'BEFORE'), ('bedtime', 'WHEN')], [('take', 'Method'), ('three', 'Qty'), ('capsules', 'Form'), ('daily', 'DAILY')], [('swallow', 'Method'), ('3', 'Qty'), ('pills', 'Form'), ('once', 'Frequency'), ('a', 'Period'), ('day', 'PeriodUnit')], [('swallow', 'Method'), ('three', 'Qty'), ('pills', 'Form'), ('thrice', 'Frequency'), ('a', 'Period'), ('day', 'PeriodUnit')], [('apply', 'Method'), ('daily', 'DAILY')], [('apply', 'Method'), ('three', 'Qty'), ('drops', 'Form'), ('before', 'BEFORE'), ('bedtime', 'WHEN')], [('every', 'EVERY'), ('6', 'Period'), ('hours', 'PeriodUnit')], [('before', 'BEFORE'), ('food', 'FOOD')], [('after', 'AFTER'), ('food', 'FOOD')], [('for', 'FOR'), ('20', 'Duration'), ('days', 'DurationUnit')], [('for', 'FOR'), ('twenty', 'Duration'), ('days', 'DurationUnit')], [('with', 'WITH'), ('meals', 'FOOD')]]\n"
     ]
    }
   ],
   "source": [
    "whole_data=tuples_maker(input_sigs, output_labels)\n",
    "print(whole_data)"
   ]
  },
  {
   "cell_type": "markdown",
   "metadata": {},
   "source": [
    "### Creating the triples_maker( ) for feature extraction\n",
    "- input: tuples_maker_output\n",
    "- output: \n",
    "[[('for', 'IN', 'FOR'),\n",
    "  ('5', 'CD', 'Duration'),\n",
    "  ('to', 'TO', 'TO'),\n",
    "  ('6', 'CD', 'DurationMax'),\n",
    "  ('days', 'NNS', 'DurationUnit')], [second sentence], ... ]"
   ]
  },
  {
   "cell_type": "code",
   "execution_count": 7,
   "metadata": {},
   "outputs": [],
   "source": [
    "def triples_maker(whole_data):\n",
    "    demo = []\n",
    "    sample_data = []\n",
    "    for x in whole_data:\n",
    "        for i, j in x:\n",
    "            temp = nltk.word_tokenize(i)\n",
    "            pos = nltk.pos_tag(temp)\n",
    "            temp2 = (pos[0][0], pos[0][1], j)\n",
    "            demo.append(temp2) \n",
    "        sample_data.append(demo)\n",
    "        demo = []\n",
    "    return sample_data"
   ]
  },
  {
   "cell_type": "code",
   "execution_count": 8,
   "metadata": {},
   "outputs": [
    {
     "name": "stdout",
     "output_type": "stream",
     "text": [
      "[[('for', 'IN', 'FOR'), ('5', 'CD', 'Duration'), ('to', 'TO', 'TO'), ('6', 'CD', 'DurationMax'), ('days', 'NNS', 'DurationUnit')], [('inject', 'NN', 'Method'), ('2', 'CD', 'Qty'), ('units', 'NNS', 'Form')], [('x', 'NN', 'FOR'), ('2', 'CD', 'Duration'), ('weeks', 'NNS', 'DurationUnit')], [('x', 'NN', 'FOR'), ('3', 'CD', 'Duration'), ('days', 'NNS', 'DurationUnit')], [('every', 'DT', 'EVERY'), ('day', 'NN', 'Period')], [('every', 'DT', 'EVERY'), ('2', 'CD', 'Period'), ('weeks', 'NNS', 'PeriodUnit')], [('every', 'DT', 'EVERY'), ('3', 'CD', 'Period'), ('days', 'NNS', 'PeriodUnit')], [('every', 'DT', 'EVERY'), ('1', 'CD', 'Period'), ('to', 'TO', 'TO'), ('2', 'CD', 'PeriodMax'), ('months', 'NNS', 'PeriodUnit')], [('every', 'DT', 'EVERY'), ('2', 'CD', 'Period'), ('to', 'TO', 'TO'), ('6', 'CD', 'PeriodMax'), ('weeks', 'NNS', 'PeriodUnit')], [('every', 'DT', 'EVERY'), ('4', 'CD', 'Period'), ('to', 'TO', 'TO'), ('6', 'CD', 'PeriodMax'), ('days', 'NNS', 'PeriodUnit')], [('take', 'VB', 'Method'), ('two', 'CD', 'Qty'), ('to', 'TO', 'TO'), ('four', 'CD', 'Qty'), ('tabs', 'NNS', 'Form')], [('take', 'VB', 'Method'), ('2', 'CD', 'Qty'), ('to', 'TO', 'TO'), ('4', 'CD', 'Qty'), ('tabs', 'NNS', 'Form')], [('take', 'VB', 'Method'), ('3', 'CD', 'Qty'), ('tabs', 'NNS', 'Form'), ('orally', 'RB', 'PO'), ('bid', 'NN', 'BID'), ('for', 'IN', 'FOR'), ('10', 'CD', 'Duration'), ('days', 'NNS', 'DurationUnit'), ('at', 'IN', 'AT'), ('bedtime', 'NN', 'WHEN')], [('swallow', 'NN', 'Method'), ('three', 'CD', 'Qty'), ('capsules', 'NNS', 'Form'), ('tid', 'NN', 'TID'), ('orally', 'RB', 'PO')], [('take', 'VB', 'Method'), ('2', 'CD', 'Qty'), ('capsules', 'NNS', 'Form'), ('po', 'NN', 'PO'), ('every', 'DT', 'EVERY'), ('6', 'CD', 'Period'), ('hours', 'NNS', 'PeriodUnit')], [('take', 'VB', 'Method'), ('2', 'CD', 'Qty'), ('tabs', 'NNS', 'Form'), ('po', 'NN', 'PO'), ('for', 'IN', 'FOR'), ('10', 'CD', 'Duration'), ('days', 'NNS', 'DurationUnit')], [('take', 'VB', 'Method'), ('100', 'CD', 'Qty'), ('caps', 'NNS', 'Form'), ('by', 'IN', 'BY'), ('mouth', 'NN', 'PO'), ('tid', 'NN', 'TID'), ('for', 'IN', 'FOR'), ('10', 'CD', 'Duration'), ('weeks', 'NNS', 'DurationUnit')], [('take', 'VB', 'Method'), ('2', 'CD', 'Qty'), ('tabs', 'NNS', 'Form'), ('after', 'IN', 'AFTER'), ('an', 'DT', 'Period'), ('hour', 'NN', 'PeriodUnit')], [('2', 'CD', 'Qty'), ('tabs', 'NNS', 'Form'), ('every', 'DT', 'EVERY'), ('4-6', 'JJ', 'Period'), ('hours', 'NNS', 'PeriodUnit')], [('every', 'DT', 'EVERY'), ('4', 'CD', 'Period'), ('to', 'TO', 'TO'), ('6', 'CD', 'PeriodMax'), ('hours', 'NNS', 'PeriodUnit')], [('q46h', 'NN', 'Q46H')], [('q4-6h', 'NN', 'Q4-6H')], [('2', 'CD', 'Qty'), ('hours', 'NNS', 'PeriodUnit'), ('before', 'IN', 'BEFORE'), ('breakfast', 'NN', 'WHEN')], [('before', 'IN', 'BEFORE'), ('30', 'CD', 'Qty'), ('mins', 'NNS', 'M'), ('at', 'IN', 'AT'), ('bedtime', 'NN', 'WHEN')], [('30', 'CD', 'Qty'), ('mins', 'NNS', 'M'), ('before', 'IN', 'BEFORE'), ('bed', 'NN', 'WHEN')], [('and', 'CC', 'AND'), ('100', 'CD', 'Qty'), ('tabs', 'NNS', 'Form'), ('twice', 'RB', 'Frequency'), ('a', 'DT', 'Period'), ('month', 'NN', 'PeriodUnit')], [('100', 'CD', 'Qty'), ('tabs', 'NNS', 'Form'), ('twice', 'RB', 'Frequency'), ('a', 'DT', 'Period'), ('month', 'NN', 'PeriodUnit')], [('100', 'CD', 'Qty'), ('tabs', 'NNS', 'Form'), ('once', 'RB', 'Frequency'), ('a', 'DT', 'Period'), ('month', 'NN', 'PeriodUnit')], [('100', 'CD', 'Qty'), ('tabs', 'NNS', 'Form'), ('thrice', 'NN', 'Frequency'), ('a', 'DT', 'Period'), ('month', 'NN', 'PeriodUnit')], [('3', 'CD', 'Qty'), ('tabs', 'NNS', 'Form'), ('daily', 'JJ', 'Frequency'), ('for', 'IN', 'FOR'), ('3', 'CD', 'Duration'), ('days', 'NNS', 'DurationUnit'), ('then', 'RB', 'THEN'), ('1', 'CD', 'Qty'), ('tab', 'NN', 'Form'), ('per', 'IN', 'Frequency'), ('day', 'NN', 'PeriodUnit'), ('at', 'IN', 'AT'), ('bed', 'NN', 'WHEN')], [('30', 'CD', 'Qty'), ('tabs', 'NNS', 'Form'), ('10', 'CD', 'Duration'), ('days', 'NNS', 'DurationUnit'), ('tid', 'NN', 'TID')], [('take', 'VB', 'Method'), ('30', 'CD', 'Qty'), ('tabs', 'NNS', 'Form'), ('for', 'IN', 'FOR'), ('10', 'CD', 'Duration'), ('days', 'NNS', 'DurationUnit'), ('three', 'CD', 'Qty'), ('times', 'NNS', 'TIMES'), ('a', 'DT', 'Period'), ('day', 'NN', 'PeriodUnit')], [('qid', 'NN', 'QID'), ('q6h', 'NN', 'Q6H')], [('bid', 'NN', 'BID')], [('qid', 'NN', 'QID')], [('30', 'CD', 'Qty'), ('tabs', 'NNS', 'Form'), ('before', 'IN', 'BEFORE'), ('dinner', 'NN', 'WHEN'), ('and', 'CC', 'AND'), ('bedtime', 'NN', 'WHEN')], [('30', 'CD', 'Qty'), ('tabs', 'NNS', 'Form'), ('before', 'IN', 'BEFORE'), ('dinner', 'NN', 'WHEN'), ('&', 'CC', 'AND'), ('bedtime', 'NN', 'WHEN')], [('take', 'VB', 'Method'), ('3', 'CD', 'Qty'), ('tabs', 'NNS', 'Form'), ('at', 'IN', 'AT'), ('bedtime', 'NN', 'WHEN')], [('30', 'CD', 'Qty'), ('tabs', 'NNS', 'Form'), ('thrice', 'NN', 'Frequency'), ('daily', 'JJ', 'DAILY'), ('for', 'IN', 'FOR'), ('10', 'CD', 'Duration'), ('days', 'NNS', 'DurationUnit')], [('30', 'CD', 'Qty'), ('tabs', 'NNS', 'Form'), ('for', 'IN', 'FOR'), ('10', 'CD', 'Duration'), ('days', 'NNS', 'DurationUnit'), ('three', 'CD', 'Frequency'), ('times', 'NNS', 'TIMES'), ('a', 'DT', 'Period'), ('day', 'NN', 'PeriodUnit')], [('take', 'VB', 'Method'), ('2', 'CD', 'Qty'), ('tablets', 'NNS', 'Form'), ('a', 'DT', 'Period'), ('day', 'NN', 'PeriodUnit')], [('qid', 'NN', 'QID'), ('for', 'IN', 'FOR'), ('10', 'CD', 'Duration'), ('days', 'NNS', 'DurationUnit')], [('every', 'DT', 'EVERY'), ('day', 'NN', 'PeriodUnit')], [('take', 'VB', 'Method'), ('2', 'CD', 'Qty'), ('caps', 'NNS', 'Form'), ('at', 'IN', 'AT'), ('bedtime', 'NN', 'WHEN')], [('apply', 'VB', 'Method'), ('3', 'CD', 'Qty'), ('drops', 'NNS', 'Form'), ('before', 'IN', 'BEFORE'), ('bedtime', 'NN', 'WHEN')], [('take', 'VB', 'Method'), ('three', 'CD', 'Qty'), ('capsules', 'NNS', 'Form'), ('daily', 'JJ', 'DAILY')], [('swallow', 'NN', 'Method'), ('3', 'CD', 'Qty'), ('pills', 'NNS', 'Form'), ('once', 'RB', 'Frequency'), ('a', 'DT', 'Period'), ('day', 'NN', 'PeriodUnit')], [('swallow', 'NN', 'Method'), ('three', 'CD', 'Qty'), ('pills', 'NNS', 'Form'), ('thrice', 'NN', 'Frequency'), ('a', 'DT', 'Period'), ('day', 'NN', 'PeriodUnit')], [('apply', 'VB', 'Method'), ('daily', 'JJ', 'DAILY')], [('apply', 'VB', 'Method'), ('three', 'CD', 'Qty'), ('drops', 'NNS', 'Form'), ('before', 'IN', 'BEFORE'), ('bedtime', 'NN', 'WHEN')], [('every', 'DT', 'EVERY'), ('6', 'CD', 'Period'), ('hours', 'NNS', 'PeriodUnit')], [('before', 'IN', 'BEFORE'), ('food', 'NN', 'FOOD')], [('after', 'IN', 'AFTER'), ('food', 'NN', 'FOOD')], [('for', 'IN', 'FOR'), ('20', 'CD', 'Duration'), ('days', 'NNS', 'DurationUnit')], [('for', 'IN', 'FOR'), ('twenty', 'NN', 'Duration'), ('days', 'NNS', 'DurationUnit')], [('with', 'IN', 'WITH'), ('meals', 'NNS', 'FOOD')]]\n"
     ]
    }
   ],
   "source": [
    "sample_data = triples_maker(whole_data)\n",
    "print(sample_data)"
   ]
  },
  {
   "cell_type": "markdown",
   "metadata": {},
   "source": [
    "### Creating the features extractor method (GIVEN as a BASELINE)\n",
    "#### The features used are:\n",
    "- SOS, EOS, lowercase, uppercase, title, digit, postag, previous_tag, next_tag\n",
    "#### Feel free to include more features"
   ]
  },
  {
   "cell_type": "code",
   "execution_count": 9,
   "metadata": {},
   "outputs": [],
   "source": [
    "def token_to_features(doc, i):\n",
    "    word = doc[i][0]\n",
    "    postag = doc[i][1]\n",
    "\n",
    "    # Common features for all words\n",
    "    features = [\n",
    "        'bias',\n",
    "        'word.lower=' + word.lower(),\n",
    "        'word[-3:]=' + word[-3:],\n",
    "        'word[-2:]=' + word[-2:],\n",
    "        'word.isupper=%s' % word.isupper(),\n",
    "        'word.istitle=%s' % word.istitle(),\n",
    "        'word.isdigit=%s' % word.isdigit(),\n",
    "        'postag=' + postag\n",
    "    ]\n",
    "\n",
    "    # Features for words that are not\n",
    "    # at the beginning of a document\n",
    "    if i > 0:\n",
    "        word1 = doc[i-1][0]\n",
    "        postag1 = doc[i-1][1]\n",
    "        features.extend([\n",
    "            '-1:word.lower=' + word1.lower(),\n",
    "            '-1:word.istitle=%s' % word1.istitle(),\n",
    "            '-1:word.isupper=%s' % word1.isupper(),\n",
    "            '-1:word.isdigit=%s' % word1.isdigit(),\n",
    "            '-1:postag=' + postag1\n",
    "        ])\n",
    "    else:\n",
    "        # Indicate that it is the 'beginning of a document'\n",
    "        features.append('BOS')\n",
    "\n",
    "    # Features for words that are not\n",
    "    # at the end of a document\n",
    "    if i < len(doc)-1:\n",
    "        word1 = doc[i+1][0]\n",
    "        postag1 = doc[i+1][1]\n",
    "        features.extend([\n",
    "            '+1:word.lower=' + word1.lower(),\n",
    "            '+1:word.istitle=%s' % word1.istitle(),\n",
    "            '+1:word.isupper=%s' % word1.isupper(),\n",
    "            '+1:word.isdigit=%s' % word1.isdigit(),\n",
    "            '+1:postag=' + postag1\n",
    "        ])\n",
    "    else:\n",
    "        # Indicate that it is the 'end of a document'\n",
    "        features.append('EOS')\n",
    "\n",
    "    return features"
   ]
  },
  {
   "cell_type": "markdown",
   "metadata": {},
   "source": [
    "### Running the feature extractor on the training data \n",
    "- Feature extraction\n",
    "- Train-test-split"
   ]
  },
  {
   "cell_type": "code",
   "execution_count": 10,
   "metadata": {},
   "outputs": [],
   "source": [
    "from sklearn.model_selection import train_test_split as tts\n",
    "def get_features(doc):\n",
    "    return [token_to_features(doc,i) for i in range(len(doc))]\n",
    "def get_label(doc):\n",
    "    return [label for token, pos, label in doc]\n",
    "X= [get_features(doc) for doc in sample_data]\n",
    "y= [get_label(doc) for doc in sample_data]\n",
    "xtrain, xtest, ytrain, ytest = tts(X, y, test_size=0.2)"
   ]
  },
  {
   "cell_type": "markdown",
   "metadata": {},
   "source": [
    "### Training the CRF model with the features extracted using the feature extractor method"
   ]
  },
  {
   "cell_type": "code",
   "execution_count": 11,
   "metadata": {},
   "outputs": [
    {
     "name": "stdout",
     "output_type": "stream",
     "text": [
      "Feature generation\n",
      "type: CRF1d\n",
      "feature.minfreq: 0.000000\n",
      "feature.possible_states: 0\n",
      "feature.possible_transitions: 1\n",
      "0....1....2....3....4....5....6....7....8....9....10\n",
      "Number of features: 1621\n",
      "Seconds required: 0.003\n",
      "\n",
      "L-BFGS optimization\n",
      "c1: 0.200000\n",
      "c2: 0.010000\n",
      "num_memories: 6\n",
      "max_iterations: 150\n",
      "epsilon: 0.000010\n",
      "stop: 10\n",
      "delta: 0.000010\n",
      "linesearch: MoreThuente\n",
      "linesearch.max_iterations: 20\n",
      "\n",
      "***** Iteration #1 *****\n",
      "Loss: 520.674070\n",
      "Feature norm: 1.000000\n",
      "Error norm: 108.983179\n",
      "Active features: 816\n",
      "Line search trials: 1\n",
      "Line search step: 0.007007\n",
      "Seconds required for this iteration: 0.001\n",
      "\n",
      "***** Iteration #2 *****\n",
      "Loss: 327.031993\n",
      "Feature norm: 5.518395\n",
      "Error norm: 120.366175\n",
      "Active features: 957\n",
      "Line search trials: 1\n",
      "Line search step: 1.000000\n",
      "Seconds required for this iteration: 0.004\n",
      "\n",
      "***** Iteration #3 *****\n",
      "Loss: 247.166357\n",
      "Feature norm: 6.544067\n",
      "Error norm: 65.977130\n",
      "Active features: 936\n",
      "Line search trials: 1\n",
      "Line search step: 1.000000\n",
      "Seconds required for this iteration: 0.001\n",
      "\n",
      "***** Iteration #4 *****\n",
      "Loss: 213.291118\n",
      "Feature norm: 6.885008\n",
      "Error norm: 45.859312\n",
      "Active features: 945\n",
      "Line search trials: 1\n",
      "Line search step: 1.000000\n",
      "Seconds required for this iteration: 0.001\n",
      "\n",
      "***** Iteration #5 *****\n",
      "Loss: 155.347368\n",
      "Feature norm: 8.408414\n",
      "Error norm: 36.364755\n",
      "Active features: 867\n",
      "Line search trials: 1\n",
      "Line search step: 1.000000\n",
      "Seconds required for this iteration: 0.001\n",
      "\n",
      "***** Iteration #6 *****\n",
      "Loss: 119.100874\n",
      "Feature norm: 10.013750\n",
      "Error norm: 20.373185\n",
      "Active features: 880\n",
      "Line search trials: 1\n",
      "Line search step: 1.000000\n",
      "Seconds required for this iteration: 0.000\n",
      "\n",
      "***** Iteration #7 *****\n",
      "Loss: 98.239232\n",
      "Feature norm: 11.914094\n",
      "Error norm: 16.747948\n",
      "Active features: 859\n",
      "Line search trials: 1\n",
      "Line search step: 1.000000\n",
      "Seconds required for this iteration: 0.001\n",
      "\n",
      "***** Iteration #8 *****\n",
      "Loss: 84.200006\n",
      "Feature norm: 13.658760\n",
      "Error norm: 11.113059\n",
      "Active features: 826\n",
      "Line search trials: 1\n",
      "Line search step: 1.000000\n",
      "Seconds required for this iteration: 0.001\n",
      "\n",
      "***** Iteration #9 *****\n",
      "Loss: 78.087736\n",
      "Feature norm: 14.510487\n",
      "Error norm: 5.598625\n",
      "Active features: 797\n",
      "Line search trials: 1\n",
      "Line search step: 1.000000\n",
      "Seconds required for this iteration: 0.001\n",
      "\n",
      "***** Iteration #10 *****\n",
      "Loss: 74.477449\n",
      "Feature norm: 15.165942\n",
      "Error norm: 4.084077\n",
      "Active features: 736\n",
      "Line search trials: 1\n",
      "Line search step: 1.000000\n",
      "Seconds required for this iteration: 0.001\n",
      "\n",
      "***** Iteration #11 *****\n",
      "Loss: 70.022461\n",
      "Feature norm: 15.682937\n",
      "Error norm: 4.323046\n",
      "Active features: 625\n",
      "Line search trials: 1\n",
      "Line search step: 1.000000\n",
      "Seconds required for this iteration: 0.001\n",
      "\n",
      "***** Iteration #12 *****\n",
      "Loss: 65.672660\n",
      "Feature norm: 16.344311\n",
      "Error norm: 6.262459\n",
      "Active features: 449\n",
      "Line search trials: 1\n",
      "Line search step: 1.000000\n",
      "Seconds required for this iteration: 0.002\n",
      "\n",
      "***** Iteration #13 *****\n",
      "Loss: 64.113553\n",
      "Feature norm: 16.435716\n",
      "Error norm: 2.541083\n",
      "Active features: 458\n",
      "Line search trials: 1\n",
      "Line search step: 1.000000\n",
      "Seconds required for this iteration: 0.001\n",
      "\n",
      "***** Iteration #14 *****\n",
      "Loss: 62.803576\n",
      "Feature norm: 16.699896\n",
      "Error norm: 2.947000\n",
      "Active features: 414\n",
      "Line search trials: 1\n",
      "Line search step: 1.000000\n",
      "Seconds required for this iteration: 0.001\n",
      "\n",
      "***** Iteration #15 *****\n",
      "Loss: 61.978973\n",
      "Feature norm: 16.880267\n",
      "Error norm: 4.845601\n",
      "Active features: 379\n",
      "Line search trials: 1\n",
      "Line search step: 1.000000\n",
      "Seconds required for this iteration: 0.000\n",
      "\n",
      "***** Iteration #16 *****\n",
      "Loss: 61.357815\n",
      "Feature norm: 17.277414\n",
      "Error norm: 2.563391\n",
      "Active features: 379\n",
      "Line search trials: 1\n",
      "Line search step: 1.000000\n",
      "Seconds required for this iteration: 0.001\n",
      "\n",
      "***** Iteration #17 *****\n",
      "Loss: 61.025175\n",
      "Feature norm: 17.446668\n",
      "Error norm: 1.426025\n",
      "Active features: 356\n",
      "Line search trials: 1\n",
      "Line search step: 1.000000\n",
      "Seconds required for this iteration: 0.001\n",
      "\n",
      "***** Iteration #18 *****\n",
      "Loss: 60.628859\n",
      "Feature norm: 17.958874\n",
      "Error norm: 1.295651\n",
      "Active features: 328\n",
      "Line search trials: 1\n",
      "Line search step: 1.000000\n",
      "Seconds required for this iteration: 0.001\n",
      "\n",
      "***** Iteration #19 *****\n",
      "Loss: 60.301440\n",
      "Feature norm: 18.109273\n",
      "Error norm: 1.780318\n",
      "Active features: 326\n",
      "Line search trials: 1\n",
      "Line search step: 1.000000\n",
      "Seconds required for this iteration: 0.001\n",
      "\n",
      "***** Iteration #20 *****\n",
      "Loss: 60.079861\n",
      "Feature norm: 18.448938\n",
      "Error norm: 2.143180\n",
      "Active features: 319\n",
      "Line search trials: 1\n",
      "Line search step: 1.000000\n",
      "Seconds required for this iteration: 0.002\n",
      "\n",
      "***** Iteration #21 *****\n",
      "Loss: 59.823409\n",
      "Feature norm: 18.631393\n",
      "Error norm: 1.184750\n",
      "Active features: 313\n",
      "Line search trials: 1\n",
      "Line search step: 1.000000\n",
      "Seconds required for this iteration: 0.001\n",
      "\n",
      "***** Iteration #22 *****\n",
      "Loss: 59.665652\n",
      "Feature norm: 18.808994\n",
      "Error norm: 0.831261\n",
      "Active features: 300\n",
      "Line search trials: 1\n",
      "Line search step: 1.000000\n",
      "Seconds required for this iteration: 0.001\n",
      "\n",
      "***** Iteration #23 *****\n",
      "Loss: 59.538297\n",
      "Feature norm: 18.859807\n",
      "Error norm: 0.705355\n",
      "Active features: 294\n",
      "Line search trials: 1\n",
      "Line search step: 1.000000\n",
      "Seconds required for this iteration: 0.001\n",
      "\n",
      "***** Iteration #24 *****\n",
      "Loss: 59.331297\n",
      "Feature norm: 18.964913\n",
      "Error norm: 0.761432\n",
      "Active features: 274\n",
      "Line search trials: 1\n",
      "Line search step: 1.000000\n",
      "Seconds required for this iteration: 0.003\n",
      "\n",
      "***** Iteration #25 *****\n",
      "Loss: 59.249650\n",
      "Feature norm: 18.947882\n",
      "Error norm: 1.357847\n",
      "Active features: 271\n",
      "Line search trials: 2\n",
      "Line search step: 0.500000\n",
      "Seconds required for this iteration: 0.002\n",
      "\n",
      "***** Iteration #26 *****\n",
      "Loss: 59.152815\n",
      "Feature norm: 18.936297\n",
      "Error norm: 1.026618\n",
      "Active features: 269\n",
      "Line search trials: 1\n",
      "Line search step: 1.000000\n",
      "Seconds required for this iteration: 0.001\n",
      "\n",
      "***** Iteration #27 *****\n",
      "Loss: 59.090952\n",
      "Feature norm: 18.847046\n",
      "Error norm: 0.865605\n",
      "Active features: 266\n",
      "Line search trials: 1\n",
      "Line search step: 1.000000\n",
      "Seconds required for this iteration: 0.001\n",
      "\n",
      "***** Iteration #28 *****\n",
      "Loss: 59.061518\n",
      "Feature norm: 18.890083\n",
      "Error norm: 1.310966\n",
      "Active features: 265\n",
      "Line search trials: 1\n",
      "Line search step: 1.000000\n",
      "Seconds required for this iteration: 0.000\n",
      "\n",
      "***** Iteration #29 *****\n",
      "Loss: 59.033537\n",
      "Feature norm: 18.794233\n",
      "Error norm: 1.181784\n",
      "Active features: 263\n",
      "Line search trials: 1\n",
      "Line search step: 1.000000\n",
      "Seconds required for this iteration: 0.001\n",
      "\n",
      "***** Iteration #30 *****\n",
      "Loss: 59.004196\n",
      "Feature norm: 18.871589\n",
      "Error norm: 1.072711\n",
      "Active features: 260\n",
      "Line search trials: 1\n",
      "Line search step: 1.000000\n",
      "Seconds required for this iteration: 0.000\n",
      "\n",
      "***** Iteration #31 *****\n",
      "Loss: 58.945520\n",
      "Feature norm: 18.840488\n",
      "Error norm: 0.802895\n",
      "Active features: 258\n",
      "Line search trials: 1\n",
      "Line search step: 1.000000\n",
      "Seconds required for this iteration: 0.001\n",
      "\n",
      "***** Iteration #32 *****\n",
      "Loss: 58.900803\n",
      "Feature norm: 18.841661\n",
      "Error norm: 0.460835\n",
      "Active features: 261\n",
      "Line search trials: 1\n",
      "Line search step: 1.000000\n",
      "Seconds required for this iteration: 0.001\n",
      "\n",
      "***** Iteration #33 *****\n",
      "Loss: 58.853534\n",
      "Feature norm: 18.862525\n",
      "Error norm: 0.865148\n",
      "Active features: 250\n",
      "Line search trials: 1\n",
      "Line search step: 1.000000\n",
      "Seconds required for this iteration: 0.000\n",
      "\n",
      "***** Iteration #34 *****\n",
      "Loss: 58.827626\n",
      "Feature norm: 18.856484\n",
      "Error norm: 0.383279\n",
      "Active features: 246\n",
      "Line search trials: 1\n",
      "Line search step: 1.000000\n",
      "Seconds required for this iteration: 0.001\n",
      "\n",
      "***** Iteration #35 *****\n",
      "Loss: 58.799545\n",
      "Feature norm: 18.878194\n",
      "Error norm: 0.425274\n",
      "Active features: 244\n",
      "Line search trials: 1\n",
      "Line search step: 1.000000\n",
      "Seconds required for this iteration: 0.002\n",
      "\n",
      "***** Iteration #36 *****\n",
      "Loss: 58.777748\n",
      "Feature norm: 18.970032\n",
      "Error norm: 0.778295\n",
      "Active features: 239\n",
      "Line search trials: 1\n",
      "Line search step: 1.000000\n",
      "Seconds required for this iteration: 0.000\n",
      "\n",
      "***** Iteration #37 *****\n",
      "Loss: 58.754825\n",
      "Feature norm: 18.990255\n",
      "Error norm: 0.853401\n",
      "Active features: 243\n",
      "Line search trials: 1\n",
      "Line search step: 1.000000\n",
      "Seconds required for this iteration: 0.001\n",
      "\n",
      "***** Iteration #38 *****\n",
      "Loss: 58.732426\n",
      "Feature norm: 18.988322\n",
      "Error norm: 0.423609\n",
      "Active features: 246\n",
      "Line search trials: 1\n",
      "Line search step: 1.000000\n",
      "Seconds required for this iteration: 0.000\n",
      "\n",
      "***** Iteration #39 *****\n",
      "Loss: 58.718635\n",
      "Feature norm: 19.018208\n",
      "Error norm: 0.516975\n",
      "Active features: 243\n",
      "Line search trials: 1\n",
      "Line search step: 1.000000\n",
      "Seconds required for this iteration: 0.001\n",
      "\n",
      "***** Iteration #40 *****\n",
      "Loss: 58.706395\n",
      "Feature norm: 19.020689\n",
      "Error norm: 0.303235\n",
      "Active features: 241\n",
      "Line search trials: 1\n",
      "Line search step: 1.000000\n",
      "Seconds required for this iteration: 0.001\n",
      "\n",
      "***** Iteration #41 *****\n",
      "Loss: 58.691362\n",
      "Feature norm: 19.041157\n",
      "Error norm: 0.286215\n",
      "Active features: 238\n",
      "Line search trials: 1\n",
      "Line search step: 1.000000\n",
      "Seconds required for this iteration: 0.000\n",
      "\n",
      "***** Iteration #42 *****\n",
      "Loss: 58.661562\n",
      "Feature norm: 19.109902\n",
      "Error norm: 0.375627\n",
      "Active features: 237\n",
      "Line search trials: 1\n",
      "Line search step: 1.000000\n",
      "Seconds required for this iteration: 0.001\n",
      "\n",
      "***** Iteration #43 *****\n",
      "Loss: 58.648616\n",
      "Feature norm: 19.131735\n",
      "Error norm: 0.387191\n",
      "Active features: 235\n",
      "Line search trials: 2\n",
      "Line search step: 0.500000\n",
      "Seconds required for this iteration: 0.001\n",
      "\n",
      "***** Iteration #44 *****\n",
      "Loss: 58.634033\n",
      "Feature norm: 19.167598\n",
      "Error norm: 0.378088\n",
      "Active features: 235\n",
      "Line search trials: 1\n",
      "Line search step: 1.000000\n",
      "Seconds required for this iteration: 0.000\n",
      "\n",
      "***** Iteration #45 *****\n",
      "Loss: 58.625865\n",
      "Feature norm: 19.204183\n",
      "Error norm: 0.551776\n",
      "Active features: 237\n",
      "Line search trials: 1\n",
      "Line search step: 1.000000\n",
      "Seconds required for this iteration: 0.001\n",
      "\n",
      "***** Iteration #46 *****\n",
      "Loss: 58.610897\n",
      "Feature norm: 19.216515\n",
      "Error norm: 0.384493\n",
      "Active features: 237\n",
      "Line search trials: 1\n",
      "Line search step: 1.000000\n",
      "Seconds required for this iteration: 0.001\n",
      "\n",
      "***** Iteration #47 *****\n",
      "Loss: 58.602077\n",
      "Feature norm: 19.232462\n",
      "Error norm: 0.357813\n",
      "Active features: 235\n",
      "Line search trials: 1\n",
      "Line search step: 1.000000\n",
      "Seconds required for this iteration: 0.001\n",
      "\n",
      "***** Iteration #48 *****\n",
      "Loss: 58.591045\n",
      "Feature norm: 19.245252\n",
      "Error norm: 0.248231\n",
      "Active features: 231\n",
      "Line search trials: 1\n",
      "Line search step: 1.000000\n",
      "Seconds required for this iteration: 0.001\n",
      "\n",
      "***** Iteration #49 *****\n",
      "Loss: 58.579510\n",
      "Feature norm: 19.277795\n",
      "Error norm: 0.277760\n",
      "Active features: 226\n",
      "Line search trials: 1\n",
      "Line search step: 1.000000\n",
      "Seconds required for this iteration: 0.001\n",
      "\n",
      "***** Iteration #50 *****\n",
      "Loss: 58.576381\n",
      "Feature norm: 19.293431\n",
      "Error norm: 0.440554\n",
      "Active features: 225\n",
      "Line search trials: 1\n",
      "Line search step: 1.000000\n",
      "Seconds required for this iteration: 0.000\n",
      "\n",
      "***** Iteration #51 *****\n",
      "Loss: 58.568479\n",
      "Feature norm: 19.339045\n",
      "Error norm: 0.375736\n",
      "Active features: 224\n",
      "Line search trials: 1\n",
      "Line search step: 1.000000\n",
      "Seconds required for this iteration: 0.001\n",
      "\n",
      "***** Iteration #52 *****\n",
      "Loss: 58.561123\n",
      "Feature norm: 19.343286\n",
      "Error norm: 0.283677\n",
      "Active features: 222\n",
      "Line search trials: 1\n",
      "Line search step: 1.000000\n",
      "Seconds required for this iteration: 0.001\n",
      "\n",
      "***** Iteration #53 *****\n",
      "Loss: 58.557103\n",
      "Feature norm: 19.355588\n",
      "Error norm: 0.210272\n",
      "Active features: 222\n",
      "Line search trials: 1\n",
      "Line search step: 1.000000\n",
      "Seconds required for this iteration: 0.001\n",
      "\n",
      "***** Iteration #54 *****\n",
      "Loss: 58.553125\n",
      "Feature norm: 19.361006\n",
      "Error norm: 0.168580\n",
      "Active features: 222\n",
      "Line search trials: 1\n",
      "Line search step: 1.000000\n",
      "Seconds required for this iteration: 0.000\n",
      "\n",
      "***** Iteration #55 *****\n",
      "Loss: 58.545900\n",
      "Feature norm: 19.384145\n",
      "Error norm: 0.255241\n",
      "Active features: 222\n",
      "Line search trials: 1\n",
      "Line search step: 1.000000\n",
      "Seconds required for this iteration: 0.001\n",
      "\n",
      "***** Iteration #56 *****\n",
      "Loss: 58.540027\n",
      "Feature norm: 19.396110\n",
      "Error norm: 0.259299\n",
      "Active features: 222\n",
      "Line search trials: 1\n",
      "Line search step: 1.000000\n",
      "Seconds required for this iteration: 0.001\n",
      "\n",
      "***** Iteration #57 *****\n",
      "Loss: 58.536877\n",
      "Feature norm: 19.398522\n",
      "Error norm: 0.343663\n",
      "Active features: 221\n",
      "Line search trials: 1\n",
      "Line search step: 1.000000\n",
      "Seconds required for this iteration: 0.001\n",
      "\n",
      "***** Iteration #58 *****\n",
      "Loss: 58.528920\n",
      "Feature norm: 19.410282\n",
      "Error norm: 0.275014\n",
      "Active features: 221\n",
      "Line search trials: 1\n",
      "Line search step: 1.000000\n",
      "Seconds required for this iteration: 0.000\n",
      "\n",
      "***** Iteration #59 *****\n",
      "Loss: 58.522764\n",
      "Feature norm: 19.411694\n",
      "Error norm: 0.234334\n",
      "Active features: 222\n",
      "Line search trials: 1\n",
      "Line search step: 1.000000\n",
      "Seconds required for this iteration: 0.001\n",
      "\n",
      "***** Iteration #60 *****\n",
      "Loss: 58.519206\n",
      "Feature norm: 19.418762\n",
      "Error norm: 0.309662\n",
      "Active features: 221\n",
      "Line search trials: 1\n",
      "Line search step: 1.000000\n",
      "Seconds required for this iteration: 0.001\n",
      "\n",
      "***** Iteration #61 *****\n",
      "Loss: 58.513154\n",
      "Feature norm: 19.426294\n",
      "Error norm: 0.171519\n",
      "Active features: 220\n",
      "Line search trials: 2\n",
      "Line search step: 0.500000\n",
      "Seconds required for this iteration: 0.001\n",
      "\n",
      "***** Iteration #62 *****\n",
      "Loss: 58.510679\n",
      "Feature norm: 19.442800\n",
      "Error norm: 0.328808\n",
      "Active features: 217\n",
      "Line search trials: 1\n",
      "Line search step: 1.000000\n",
      "Seconds required for this iteration: 0.000\n",
      "\n",
      "***** Iteration #63 *****\n",
      "Loss: 58.503609\n",
      "Feature norm: 19.459721\n",
      "Error norm: 0.330057\n",
      "Active features: 218\n",
      "Line search trials: 1\n",
      "Line search step: 1.000000\n",
      "Seconds required for this iteration: 0.001\n",
      "\n",
      "***** Iteration #64 *****\n",
      "Loss: 58.501219\n",
      "Feature norm: 19.472740\n",
      "Error norm: 0.370228\n",
      "Active features: 216\n",
      "Line search trials: 1\n",
      "Line search step: 1.000000\n",
      "Seconds required for this iteration: 0.001\n",
      "\n",
      "***** Iteration #65 *****\n",
      "Loss: 58.498214\n",
      "Feature norm: 19.490731\n",
      "Error norm: 0.370209\n",
      "Active features: 217\n",
      "Line search trials: 1\n",
      "Line search step: 1.000000\n",
      "Seconds required for this iteration: 0.001\n",
      "\n",
      "***** Iteration #66 *****\n",
      "Loss: 58.492450\n",
      "Feature norm: 19.494994\n",
      "Error norm: 0.226946\n",
      "Active features: 215\n",
      "Line search trials: 1\n",
      "Line search step: 1.000000\n",
      "Seconds required for this iteration: 0.002\n",
      "\n",
      "***** Iteration #67 *****\n",
      "Loss: 58.489122\n",
      "Feature norm: 19.504538\n",
      "Error norm: 0.205565\n",
      "Active features: 218\n",
      "Line search trials: 1\n",
      "Line search step: 1.000000\n",
      "Seconds required for this iteration: 0.001\n",
      "\n",
      "***** Iteration #68 *****\n",
      "Loss: 58.486896\n",
      "Feature norm: 19.516734\n",
      "Error norm: 0.208125\n",
      "Active features: 217\n",
      "Line search trials: 1\n",
      "Line search step: 1.000000\n",
      "Seconds required for this iteration: 0.001\n",
      "\n",
      "***** Iteration #69 *****\n",
      "Loss: 58.483976\n",
      "Feature norm: 19.529181\n",
      "Error norm: 0.229830\n",
      "Active features: 217\n",
      "Line search trials: 1\n",
      "Line search step: 1.000000\n",
      "Seconds required for this iteration: 0.000\n",
      "\n",
      "***** Iteration #70 *****\n",
      "Loss: 58.482151\n",
      "Feature norm: 19.542987\n",
      "Error norm: 0.250131\n",
      "Active features: 218\n",
      "Line search trials: 1\n",
      "Line search step: 1.000000\n",
      "Seconds required for this iteration: 0.001\n",
      "\n",
      "***** Iteration #71 *****\n",
      "Loss: 58.481604\n",
      "Feature norm: 19.564215\n",
      "Error norm: 0.347069\n",
      "Active features: 218\n",
      "Line search trials: 1\n",
      "Line search step: 1.000000\n",
      "Seconds required for this iteration: 0.001\n",
      "\n",
      "***** Iteration #72 *****\n",
      "Loss: 58.476782\n",
      "Feature norm: 19.573888\n",
      "Error norm: 0.228727\n",
      "Active features: 218\n",
      "Line search trials: 1\n",
      "Line search step: 1.000000\n",
      "Seconds required for this iteration: 0.001\n",
      "\n",
      "***** Iteration #73 *****\n",
      "Loss: 58.476596\n",
      "Feature norm: 19.595679\n",
      "Error norm: 0.310351\n",
      "Active features: 220\n",
      "Line search trials: 1\n",
      "Line search step: 1.000000\n",
      "Seconds required for this iteration: 0.001\n",
      "\n",
      "***** Iteration #74 *****\n",
      "Loss: 58.473551\n",
      "Feature norm: 19.607232\n",
      "Error norm: 0.220736\n",
      "Active features: 222\n",
      "Line search trials: 1\n",
      "Line search step: 1.000000\n",
      "Seconds required for this iteration: 0.001\n",
      "\n",
      "***** Iteration #75 *****\n",
      "Loss: 58.471670\n",
      "Feature norm: 19.621859\n",
      "Error norm: 0.196739\n",
      "Active features: 222\n",
      "Line search trials: 1\n",
      "Line search step: 1.000000\n",
      "Seconds required for this iteration: 0.002\n",
      "\n",
      "***** Iteration #76 *****\n",
      "Loss: 58.470125\n",
      "Feature norm: 19.627507\n",
      "Error norm: 0.140123\n",
      "Active features: 222\n",
      "Line search trials: 1\n",
      "Line search step: 1.000000\n",
      "Seconds required for this iteration: 0.001\n",
      "\n",
      "***** Iteration #77 *****\n",
      "Loss: 58.469209\n",
      "Feature norm: 19.633933\n",
      "Error norm: 0.162908\n",
      "Active features: 222\n",
      "Line search trials: 1\n",
      "Line search step: 1.000000\n",
      "Seconds required for this iteration: 0.001\n",
      "\n",
      "***** Iteration #78 *****\n",
      "Loss: 58.468015\n",
      "Feature norm: 19.639851\n",
      "Error norm: 0.143044\n",
      "Active features: 218\n",
      "Line search trials: 1\n",
      "Line search step: 1.000000\n",
      "Seconds required for this iteration: 0.001\n",
      "\n",
      "***** Iteration #79 *****\n",
      "Loss: 58.467519\n",
      "Feature norm: 19.648849\n",
      "Error norm: 0.226800\n",
      "Active features: 218\n",
      "Line search trials: 1\n",
      "Line search step: 1.000000\n",
      "Seconds required for this iteration: 0.001\n",
      "\n",
      "***** Iteration #80 *****\n",
      "Loss: 58.465856\n",
      "Feature norm: 19.659731\n",
      "Error norm: 0.199784\n",
      "Active features: 218\n",
      "Line search trials: 1\n",
      "Line search step: 1.000000\n",
      "Seconds required for this iteration: 0.001\n",
      "\n",
      "***** Iteration #81 *****\n",
      "Loss: 58.465449\n",
      "Feature norm: 19.675524\n",
      "Error norm: 0.266161\n",
      "Active features: 220\n",
      "Line search trials: 1\n",
      "Line search step: 1.000000\n",
      "Seconds required for this iteration: 0.001\n",
      "\n",
      "***** Iteration #82 *****\n",
      "Loss: 58.463407\n",
      "Feature norm: 19.686625\n",
      "Error norm: 0.201925\n",
      "Active features: 220\n",
      "Line search trials: 1\n",
      "Line search step: 1.000000\n",
      "Seconds required for this iteration: 0.001\n",
      "\n",
      "***** Iteration #83 *****\n",
      "Loss: 58.461591\n",
      "Feature norm: 19.695852\n",
      "Error norm: 0.159525\n",
      "Active features: 220\n",
      "Line search trials: 1\n",
      "Line search step: 1.000000\n",
      "Seconds required for this iteration: 0.001\n",
      "\n",
      "***** Iteration #84 *****\n",
      "Loss: 58.460822\n",
      "Feature norm: 19.704906\n",
      "Error norm: 0.157405\n",
      "Active features: 220\n",
      "Line search trials: 1\n",
      "Line search step: 1.000000\n",
      "Seconds required for this iteration: 0.000\n",
      "\n",
      "***** Iteration #85 *****\n",
      "Loss: 58.459785\n",
      "Feature norm: 19.711113\n",
      "Error norm: 0.127023\n",
      "Active features: 220\n",
      "Line search trials: 1\n",
      "Line search step: 1.000000\n",
      "Seconds required for this iteration: 0.001\n",
      "\n",
      "***** Iteration #86 *****\n",
      "Loss: 58.459032\n",
      "Feature norm: 19.719036\n",
      "Error norm: 0.122734\n",
      "Active features: 220\n",
      "Line search trials: 1\n",
      "Line search step: 1.000000\n",
      "Seconds required for this iteration: 0.001\n",
      "\n",
      "***** Iteration #87 *****\n",
      "Loss: 58.457945\n",
      "Feature norm: 19.721525\n",
      "Error norm: 0.118350\n",
      "Active features: 220\n",
      "Line search trials: 1\n",
      "Line search step: 1.000000\n",
      "Seconds required for this iteration: 0.000\n",
      "\n",
      "***** Iteration #88 *****\n",
      "Loss: 58.457154\n",
      "Feature norm: 19.730515\n",
      "Error norm: 0.140022\n",
      "Active features: 218\n",
      "Line search trials: 1\n",
      "Line search step: 1.000000\n",
      "Seconds required for this iteration: 0.001\n",
      "\n",
      "***** Iteration #89 *****\n",
      "Loss: 58.456764\n",
      "Feature norm: 19.737919\n",
      "Error norm: 0.194542\n",
      "Active features: 218\n",
      "Line search trials: 1\n",
      "Line search step: 1.000000\n",
      "Seconds required for this iteration: 0.001\n",
      "\n",
      "***** Iteration #90 *****\n",
      "Loss: 58.455883\n",
      "Feature norm: 19.747851\n",
      "Error norm: 0.155721\n",
      "Active features: 217\n",
      "Line search trials: 1\n",
      "Line search step: 1.000000\n",
      "Seconds required for this iteration: 0.001\n",
      "\n",
      "***** Iteration #91 *****\n",
      "Loss: 58.455138\n",
      "Feature norm: 19.753869\n",
      "Error norm: 0.140836\n",
      "Active features: 217\n",
      "Line search trials: 1\n",
      "Line search step: 1.000000\n",
      "Seconds required for this iteration: 0.000\n",
      "\n",
      "***** Iteration #92 *****\n",
      "Loss: 58.454462\n",
      "Feature norm: 19.758122\n",
      "Error norm: 0.086884\n",
      "Active features: 217\n",
      "Line search trials: 1\n",
      "Line search step: 1.000000\n",
      "Seconds required for this iteration: 0.001\n",
      "\n",
      "***** Iteration #93 *****\n",
      "Loss: 58.454142\n",
      "Feature norm: 19.759541\n",
      "Error norm: 0.092698\n",
      "Active features: 216\n",
      "Line search trials: 1\n",
      "Line search step: 1.000000\n",
      "Seconds required for this iteration: 0.002\n",
      "\n",
      "***** Iteration #94 *****\n",
      "Loss: 58.453648\n",
      "Feature norm: 19.760141\n",
      "Error norm: 0.068383\n",
      "Active features: 216\n",
      "Line search trials: 1\n",
      "Line search step: 1.000000\n",
      "Seconds required for this iteration: 0.000\n",
      "\n",
      "***** Iteration #95 *****\n",
      "Loss: 58.452704\n",
      "Feature norm: 19.760319\n",
      "Error norm: 0.064210\n",
      "Active features: 213\n",
      "Line search trials: 1\n",
      "Line search step: 1.000000\n",
      "Seconds required for this iteration: 0.001\n",
      "\n",
      "***** Iteration #96 *****\n",
      "Loss: 58.449878\n",
      "Feature norm: 19.755335\n",
      "Error norm: 0.104224\n",
      "Active features: 210\n",
      "Line search trials: 1\n",
      "Line search step: 1.000000\n",
      "Seconds required for this iteration: 0.000\n",
      "\n",
      "***** Iteration #97 *****\n",
      "Loss: 58.449516\n",
      "Feature norm: 19.756047\n",
      "Error norm: 0.119009\n",
      "Active features: 212\n",
      "Line search trials: 2\n",
      "Line search step: 0.500000\n",
      "Seconds required for this iteration: 0.001\n",
      "\n",
      "***** Iteration #98 *****\n",
      "Loss: 58.448921\n",
      "Feature norm: 19.756270\n",
      "Error norm: 0.070515\n",
      "Active features: 213\n",
      "Line search trials: 1\n",
      "Line search step: 1.000000\n",
      "Seconds required for this iteration: 0.001\n",
      "\n",
      "***** Iteration #99 *****\n",
      "Loss: 58.448405\n",
      "Feature norm: 19.755629\n",
      "Error norm: 0.062345\n",
      "Active features: 211\n",
      "Line search trials: 1\n",
      "Line search step: 1.000000\n",
      "Seconds required for this iteration: 0.001\n",
      "\n",
      "***** Iteration #100 *****\n",
      "Loss: 58.446893\n",
      "Feature norm: 19.756148\n",
      "Error norm: 0.050176\n",
      "Active features: 211\n",
      "Line search trials: 1\n",
      "Line search step: 1.000000\n",
      "Seconds required for this iteration: 0.001\n",
      "\n",
      "***** Iteration #101 *****\n",
      "Loss: 58.445751\n",
      "Feature norm: 19.752488\n",
      "Error norm: 0.130715\n",
      "Active features: 211\n",
      "Line search trials: 1\n",
      "Line search step: 1.000000\n",
      "Seconds required for this iteration: 0.001\n",
      "\n",
      "***** Iteration #102 *****\n",
      "Loss: 58.445011\n",
      "Feature norm: 19.756149\n",
      "Error norm: 0.124897\n",
      "Active features: 211\n",
      "Line search trials: 2\n",
      "Line search step: 0.500000\n",
      "Seconds required for this iteration: 0.002\n",
      "\n",
      "***** Iteration #103 *****\n",
      "Loss: 58.444285\n",
      "Feature norm: 19.755634\n",
      "Error norm: 0.106029\n",
      "Active features: 210\n",
      "Line search trials: 1\n",
      "Line search step: 1.000000\n",
      "Seconds required for this iteration: 0.001\n",
      "\n",
      "***** Iteration #104 *****\n",
      "Loss: 58.444025\n",
      "Feature norm: 19.756401\n",
      "Error norm: 0.111112\n",
      "Active features: 210\n",
      "Line search trials: 1\n",
      "Line search step: 1.000000\n",
      "Seconds required for this iteration: 0.000\n",
      "\n",
      "***** Iteration #105 *****\n",
      "Loss: 58.443376\n",
      "Feature norm: 19.753324\n",
      "Error norm: 0.089691\n",
      "Active features: 211\n",
      "Line search trials: 1\n",
      "Line search step: 1.000000\n",
      "Seconds required for this iteration: 0.001\n",
      "\n",
      "***** Iteration #106 *****\n",
      "Loss: 58.442997\n",
      "Feature norm: 19.754826\n",
      "Error norm: 0.078211\n",
      "Active features: 211\n",
      "Line search trials: 1\n",
      "Line search step: 1.000000\n",
      "Seconds required for this iteration: 0.001\n",
      "\n",
      "***** Iteration #107 *****\n",
      "Loss: 58.442704\n",
      "Feature norm: 19.749725\n",
      "Error norm: 0.106139\n",
      "Active features: 211\n",
      "Line search trials: 1\n",
      "Line search step: 1.000000\n",
      "Seconds required for this iteration: 0.001\n",
      "\n",
      "***** Iteration #108 *****\n",
      "Loss: 58.442339\n",
      "Feature norm: 19.751570\n",
      "Error norm: 0.102725\n",
      "Active features: 209\n",
      "Line search trials: 1\n",
      "Line search step: 1.000000\n",
      "Seconds required for this iteration: 0.000\n",
      "\n",
      "***** Iteration #109 *****\n",
      "Loss: 58.441963\n",
      "Feature norm: 19.749302\n",
      "Error norm: 0.106989\n",
      "Active features: 209\n",
      "Line search trials: 1\n",
      "Line search step: 1.000000\n",
      "Seconds required for this iteration: 0.001\n",
      "\n",
      "***** Iteration #110 *****\n",
      "Loss: 58.441646\n",
      "Feature norm: 19.749705\n",
      "Error norm: 0.099537\n",
      "Active features: 209\n",
      "Line search trials: 1\n",
      "Line search step: 1.000000\n",
      "Seconds required for this iteration: 0.001\n",
      "\n",
      "***** Iteration #111 *****\n",
      "Loss: 58.441390\n",
      "Feature norm: 19.745885\n",
      "Error norm: 0.103791\n",
      "Active features: 209\n",
      "Line search trials: 1\n",
      "Line search step: 1.000000\n",
      "Seconds required for this iteration: 0.001\n",
      "\n",
      "***** Iteration #112 *****\n",
      "Loss: 58.441080\n",
      "Feature norm: 19.747258\n",
      "Error norm: 0.087927\n",
      "Active features: 209\n",
      "Line search trials: 1\n",
      "Line search step: 1.000000\n",
      "Seconds required for this iteration: 0.001\n",
      "\n",
      "***** Iteration #113 *****\n",
      "Loss: 58.440788\n",
      "Feature norm: 19.743392\n",
      "Error norm: 0.079755\n",
      "Active features: 209\n",
      "Line search trials: 1\n",
      "Line search step: 1.000000\n",
      "Seconds required for this iteration: 0.001\n",
      "\n",
      "***** Iteration #114 *****\n",
      "Loss: 58.440556\n",
      "Feature norm: 19.743114\n",
      "Error norm: 0.057952\n",
      "Active features: 209\n",
      "Line search trials: 1\n",
      "Line search step: 1.000000\n",
      "Seconds required for this iteration: 0.001\n",
      "\n",
      "***** Iteration #115 *****\n",
      "Loss: 58.440401\n",
      "Feature norm: 19.740923\n",
      "Error norm: 0.055690\n",
      "Active features: 209\n",
      "Line search trials: 1\n",
      "Line search step: 1.000000\n",
      "Seconds required for this iteration: 0.000\n",
      "\n",
      "***** Iteration #116 *****\n",
      "Loss: 58.440314\n",
      "Feature norm: 19.741069\n",
      "Error norm: 0.053567\n",
      "Active features: 209\n",
      "Line search trials: 1\n",
      "Line search step: 1.000000\n",
      "Seconds required for this iteration: 0.001\n",
      "\n",
      "***** Iteration #117 *****\n",
      "Loss: 58.440219\n",
      "Feature norm: 19.739089\n",
      "Error norm: 0.057360\n",
      "Active features: 209\n",
      "Line search trials: 1\n",
      "Line search step: 1.000000\n",
      "Seconds required for this iteration: 0.001\n",
      "\n",
      "***** Iteration #118 *****\n",
      "Loss: 58.440144\n",
      "Feature norm: 19.738467\n",
      "Error norm: 0.056574\n",
      "Active features: 209\n",
      "Line search trials: 1\n",
      "Line search step: 1.000000\n",
      "Seconds required for this iteration: 0.001\n",
      "\n",
      "***** Iteration #119 *****\n",
      "Loss: 58.440054\n",
      "Feature norm: 19.736448\n",
      "Error norm: 0.056002\n",
      "Active features: 209\n",
      "Line search trials: 1\n",
      "Line search step: 1.000000\n",
      "Seconds required for this iteration: 0.001\n",
      "\n",
      "***** Iteration #120 *****\n",
      "Loss: 58.439977\n",
      "Feature norm: 19.736039\n",
      "Error norm: 0.050219\n",
      "Active features: 209\n",
      "Line search trials: 1\n",
      "Line search step: 1.000000\n",
      "Seconds required for this iteration: 0.000\n",
      "\n",
      "***** Iteration #121 *****\n",
      "Loss: 58.439890\n",
      "Feature norm: 19.734512\n",
      "Error norm: 0.045014\n",
      "Active features: 209\n",
      "Line search trials: 1\n",
      "Line search step: 1.000000\n",
      "Seconds required for this iteration: 0.001\n",
      "\n",
      "***** Iteration #122 *****\n",
      "Loss: 58.439823\n",
      "Feature norm: 19.734489\n",
      "Error norm: 0.038080\n",
      "Active features: 209\n",
      "Line search trials: 1\n",
      "Line search step: 1.000000\n",
      "Seconds required for this iteration: 0.000\n",
      "\n",
      "***** Iteration #123 *****\n",
      "Loss: 58.439780\n",
      "Feature norm: 19.733269\n",
      "Error norm: 0.036829\n",
      "Active features: 209\n",
      "Line search trials: 1\n",
      "Line search step: 1.000000\n",
      "Seconds required for this iteration: 0.001\n",
      "\n",
      "***** Iteration #124 *****\n",
      "Loss: 58.439703\n",
      "Feature norm: 19.733491\n",
      "Error norm: 0.029487\n",
      "Active features: 210\n",
      "Line search trials: 1\n",
      "Line search step: 1.000000\n",
      "Seconds required for this iteration: 0.001\n",
      "\n",
      "***** Iteration #125 *****\n",
      "Loss: 58.439671\n",
      "Feature norm: 19.732491\n",
      "Error norm: 0.032788\n",
      "Active features: 210\n",
      "Line search trials: 1\n",
      "Line search step: 1.000000\n",
      "Seconds required for this iteration: 0.001\n",
      "\n",
      "***** Iteration #126 *****\n",
      "Loss: 58.439615\n",
      "Feature norm: 19.732847\n",
      "Error norm: 0.036323\n",
      "Active features: 210\n",
      "Line search trials: 1\n",
      "Line search step: 1.000000\n",
      "Seconds required for this iteration: 0.000\n",
      "\n",
      "***** Iteration #127 *****\n",
      "Loss: 58.439594\n",
      "Feature norm: 19.731362\n",
      "Error norm: 0.040510\n",
      "Active features: 210\n",
      "Line search trials: 1\n",
      "Line search step: 1.000000\n",
      "Seconds required for this iteration: 0.001\n",
      "\n",
      "***** Iteration #128 *****\n",
      "Loss: 58.439535\n",
      "Feature norm: 19.731517\n",
      "Error norm: 0.037939\n",
      "Active features: 209\n",
      "Line search trials: 1\n",
      "Line search step: 1.000000\n",
      "Seconds required for this iteration: 0.001\n",
      "\n",
      "***** Iteration #129 *****\n",
      "Loss: 58.439499\n",
      "Feature norm: 19.730373\n",
      "Error norm: 0.032581\n",
      "Active features: 209\n",
      "Line search trials: 1\n",
      "Line search step: 1.000000\n",
      "Seconds required for this iteration: 0.001\n",
      "\n",
      "L-BFGS terminated with the stopping criteria\n",
      "Total seconds required for training: 0.117\n",
      "\n",
      "Storing the model\n",
      "Number of active features: 209 (1621)\n",
      "Number of active attributes: 154 (302)\n",
      "Number of active labels: 29 (29)\n",
      "Writing labels\n",
      "Writing attributes\n",
      "Writing feature references for transitions\n",
      "Writing feature references for attributes\n",
      "Seconds required: 0.001\n",
      "\n"
     ]
    }
   ],
   "source": [
    "import pycrfsuite\n",
    "trainer = pycrfsuite.Trainer(verbose=True)\n",
    "\n",
    "# Submit training data to the trainer\n",
    "for xseq, yseq in zip(xtrain, ytrain):\n",
    "    trainer.append(xseq, yseq)\n",
    "\n",
    "# Set the parameters of the model\n",
    "trainer.set_params({ 'c1': 0.2, 'c2': 0.01, 'max_iterations': 150, 'feature.possible_transitions': True})\n",
    "\n",
    "# Provide a file name as a parameter to the train function, such that\n",
    "# the model will be saved to the file when training is finished\n",
    "trainer.train('crf.model')"
   ]
  },
  {
   "cell_type": "markdown",
   "metadata": {},
   "source": [
    "### Predicting the test data with the built model"
   ]
  },
  {
   "cell_type": "code",
   "execution_count": 12,
   "metadata": {
    "scrolled": true
   },
   "outputs": [],
   "source": [
    "tagger = pycrfsuite.Tagger()\n",
    "tagger.open('crf.model')\n",
    "ypred = [tagger.tag(xseq) for xseq in xtest]"
   ]
  },
  {
   "cell_type": "code",
   "execution_count": 13,
   "metadata": {},
   "outputs": [
    {
     "name": "stdout",
     "output_type": "stream",
     "text": [
      "F-Score = 0.7520327498588367\n"
     ]
    }
   ],
   "source": [
    "print(f\"F-Score = {metrics.flat_f1_score(ytest, ypred, average='weighted')}\")\n"
   ]
  },
  {
   "cell_type": "markdown",
   "metadata": {},
   "source": [
    "### Putting all the prediction logic inside a predict method"
   ]
  },
  {
   "cell_type": "code",
   "execution_count": 14,
   "metadata": {},
   "outputs": [],
   "source": [
    "def predict(sig):\n",
    "    \"\"\"\n",
    "    predict(sig)\n",
    "    Purpose: Labels the given sig into corresponding labels\n",
    "    @param sig. A Sentence  # A medical prescription sig written by a doctor\n",
    "    @return     A list      # A list with predicted labels (first level of labeling)\n",
    "    >>> predict('2 tabs every 4 hours')\n",
    "    [['Qty', 'Form', 'EVERY', 'Period', 'PeriodUnit']]\n",
    "    >>> predict('2 tabs with food')\n",
    "    [['Qty', 'Form', 'WITH', 'FOOD']]\n",
    "    >>> predict('2 tabs qid x 30 days')\n",
    "    [['Qty', 'Form', 'QID', 'FOR', 'Duration', 'DurationUnit']]\n",
    "    \"\"\"\n",
    "    demo = []\n",
    "    sample_data = []\n",
    "    sig = [sig]\n",
    "    for x in sig:\n",
    "        temp = nltk.word_tokenize(x)\n",
    "        pos = nltk.pos_tag(temp)\n",
    "        for y in range(len(pos)):\n",
    "            temp2 = (pos[y][0], pos[y][1], pos[y][1]) \n",
    "            demo.append(temp2) \n",
    "            sample_data.append(demo)\n",
    "            demo = []\n",
    "    data = [get_features(doc) for doc in sample_data]\n",
    "    tagger.open('crf.model')\n",
    "    predictions = [tagger.tag(xseq) for xseq in data]\n",
    "    \n",
    "    return predictions"
   ]
  },
  {
   "cell_type": "markdown",
   "metadata": {},
   "source": [
    "### Sample predictions"
   ]
  },
  {
   "cell_type": "code",
   "execution_count": 23,
   "metadata": {},
   "outputs": [
    {
     "name": "stdout",
     "output_type": "stream",
     "text": [
      "[['Method'], ['Qty'], ['Form'], ['EVERY'], ['Qty'], ['PeriodUnit'], ['FOR'], ['Qty'], ['DurationUnit']]\n"
     ]
    }
   ],
   "source": [
    "predictions = predict(\"take 2 tabs every 6 hours x 10 days\")\n",
    "print(predictions)"
   ]
  },
  {
   "cell_type": "code",
   "execution_count": 24,
   "metadata": {},
   "outputs": [
    {
     "name": "stdout",
     "output_type": "stream",
     "text": [
      "[['Qty'], ['PeriodUnit'], ['FOR'], ['Qty'], ['PeriodUnit'], ['AT'], ['PeriodUnit']]\n"
     ]
    }
   ],
   "source": [
    "predictions = predict(\"2 capsu for 10 day at bed\")\n",
    "print(predictions)"
   ]
  },
  {
   "cell_type": "code",
   "execution_count": 25,
   "metadata": {},
   "outputs": [
    {
     "name": "stdout",
     "output_type": "stream",
     "text": [
      "[['Qty'], ['PeriodUnit'], ['FOR'], ['Qty'], ['DurationUnit'], ['AT'], ['PeriodUnit']]\n"
     ]
    }
   ],
   "source": [
    "predictions = predict(\"2 capsu for 10 days at bed\")\n",
    "print(predictions)"
   ]
  },
  {
   "cell_type": "code",
   "execution_count": 26,
   "metadata": {},
   "outputs": [
    {
     "name": "stdout",
     "output_type": "stream",
     "text": [
      "[['Qty'], ['DurationUnit'], ['Qty'], ['Form'], ['AT'], ['PeriodUnit']]\n"
     ]
    }
   ],
   "source": [
    "predictions = predict(\"5 days 2 tabs at bed\")\n",
    "print(predictions)"
   ]
  },
  {
   "cell_type": "code",
   "execution_count": 27,
   "metadata": {},
   "outputs": [
    {
     "name": "stdout",
     "output_type": "stream",
     "text": [
      "[['Qty'], ['Form'], ['QID'], ['FOR'], ['Qty'], ['PeriodUnit']]\n"
     ]
    }
   ],
   "source": [
    "predictions = predict(\"3 tabs qid x 10 weeks\")\n",
    "print(predictions)"
   ]
  },
  {
   "cell_type": "code",
   "execution_count": 28,
   "metadata": {},
   "outputs": [
    {
     "name": "stdout",
     "output_type": "stream",
     "text": [
      "[['FOR'], ['Qty'], ['DurationUnit']]\n"
     ]
    }
   ],
   "source": [
    "predictions = predict(\"x 30 days\")\n",
    "print(predictions)"
   ]
  },
  {
   "cell_type": "code",
   "execution_count": 29,
   "metadata": {},
   "outputs": [
    {
     "name": "stdout",
     "output_type": "stream",
     "text": [
      "[['FOR'], ['Qty'], ['PeriodUnit']]\n"
     ]
    }
   ],
   "source": [
    "predictions = predict(\"x 20 months\")\n",
    "print(predictions)"
   ]
  },
  {
   "cell_type": "code",
   "execution_count": 30,
   "metadata": {},
   "outputs": [
    {
     "name": "stdout",
     "output_type": "stream",
     "text": [
      "[['Method'], ['Qty'], ['Form'], ['PO'], ['TID'], ['FOR'], ['Qty'], ['DurationUnit']]\n"
     ]
    }
   ],
   "source": [
    "predictions = predict(\"take 2 tabs po tid for 10 days\")\n",
    "print(predictions)"
   ]
  },
  {
   "cell_type": "code",
   "execution_count": 31,
   "metadata": {},
   "outputs": [
    {
     "name": "stdout",
     "output_type": "stream",
     "text": [
      "[['Method'], ['Qty'], ['PeriodUnit'], ['PO'], ['EVERY'], ['Qty'], ['PeriodUnit']]\n"
     ]
    }
   ],
   "source": [
    "predictions = predict(\"take 2 capsules po every 6 hours\")\n",
    "print(predictions)"
   ]
  },
  {
   "cell_type": "code",
   "execution_count": 32,
   "metadata": {},
   "outputs": [
    {
     "name": "stdout",
     "output_type": "stream",
     "text": [
      "[['Method'], ['Qty'], ['Form'], ['PeriodUnit'], ['TID']]\n"
     ]
    }
   ],
   "source": [
    "predictions = predict(\"inject 2 units pu tid\")\n",
    "print(predictions)"
   ]
  },
  {
   "cell_type": "code",
   "execution_count": 33,
   "metadata": {},
   "outputs": [
    {
     "name": "stdout",
     "output_type": "stream",
     "text": [
      "[['Method'], ['Qty'], ['Form'], ['TID'], ['BY'], ['PeriodUnit']]\n"
     ]
    }
   ],
   "source": [
    "predictions = predict(\"swallow 3 caps tid by mouth\")\n",
    "print(predictions)"
   ]
  },
  {
   "cell_type": "code",
   "execution_count": 34,
   "metadata": {},
   "outputs": [
    {
     "name": "stdout",
     "output_type": "stream",
     "text": [
      "[['Method'], ['Qty'], ['Form'], ['PO']]\n"
     ]
    }
   ],
   "source": [
    "predictions = predict(\"inject 3 units orally\")\n",
    "print(predictions)"
   ]
  },
  {
   "cell_type": "code",
   "execution_count": 35,
   "metadata": {},
   "outputs": [
    {
     "name": "stdout",
     "output_type": "stream",
     "text": [
      "[['PO'], ['PeriodUnit'], ['Qty'], ['Form'], ['TID']]\n"
     ]
    }
   ],
   "source": [
    "predictions = predict(\"orally take 3 tabs tid\")\n",
    "print(predictions)"
   ]
  },
  {
   "cell_type": "code",
   "execution_count": 36,
   "metadata": {},
   "outputs": [
    {
     "name": "stdout",
     "output_type": "stream",
     "text": [
      "[['BY'], ['PeriodUnit'], ['PeriodUnit'], ['Qty'], ['Form']]\n"
     ]
    }
   ],
   "source": [
    "predictions = predict(\"by mouth take three caps\")\n",
    "print(predictions)"
   ]
  },
  {
   "cell_type": "code",
   "execution_count": 37,
   "metadata": {},
   "outputs": [
    {
     "name": "stdout",
     "output_type": "stream",
     "text": [
      "[['Method'], ['Qty'], ['Form'], ['PO'], ['Qty'], ['TIMES'], ['Period'], ['PeriodUnit'], ['FOR'], ['Qty'], ['DurationUnit'], ['AT'], ['WHEN']]\n"
     ]
    }
   ],
   "source": [
    "predictions = predict(\"take 3 tabs orally three times a day for 10 days at bedtime\")\n",
    "print(predictions)"
   ]
  },
  {
   "cell_type": "code",
   "execution_count": 38,
   "metadata": {},
   "outputs": [
    {
     "name": "stdout",
     "output_type": "stream",
     "text": [
      "[['Method'], ['Qty'], ['Form'], ['PO'], ['BID'], ['FOR'], ['Qty'], ['DurationUnit'], ['AT'], ['WHEN']]\n"
     ]
    }
   ],
   "source": [
    "predictions = predict(\"take 3 tabs orally bid for 10 days at bedtime\")\n",
    "print(predictions)"
   ]
  },
  {
   "cell_type": "code",
   "execution_count": 39,
   "metadata": {},
   "outputs": [
    {
     "name": "stdout",
     "output_type": "stream",
     "text": [
      "[['Method'], ['Qty'], ['Form'], ['BID'], ['PO'], ['AT'], ['PeriodUnit']]\n"
     ]
    }
   ],
   "source": [
    "predictions = predict(\"take 3 tabs bid orally at bed\")\n",
    "print(predictions)"
   ]
  },
  {
   "cell_type": "code",
   "execution_count": 40,
   "metadata": {},
   "outputs": [
    {
     "name": "stdout",
     "output_type": "stream",
     "text": [
      "[['Method'], ['Qty'], ['PeriodUnit'], ['BY'], ['PeriodUnit'], ['QID']]\n"
     ]
    }
   ],
   "source": [
    "predictions = predict(\"take 10 capsules by mouth qid\")\n",
    "print(predictions)"
   ]
  },
  {
   "cell_type": "code",
   "execution_count": 41,
   "metadata": {},
   "outputs": [
    {
     "name": "stdout",
     "output_type": "stream",
     "text": [
      "[['Method'], ['Qty'], ['Form'], ['PO'], ['QID'], ['FOR'], ['Qty'], ['PeriodUnit']]\n"
     ]
    }
   ],
   "source": [
    "predictions = predict(\"inject 10 units orally qid x 3 months\")\n",
    "print(predictions)"
   ]
  },
  {
   "cell_type": "code",
   "execution_count": 42,
   "metadata": {},
   "outputs": [
    {
     "name": "stdout",
     "output_type": "stream",
     "text": [
      "[['Method'], ['Qty'], ['Form'], ['PO'], ['QID'], ['FOR'], ['Qty'], ['PeriodUnit']]\n"
     ]
    }
   ],
   "source": [
    "prediction = predict(\"please take 2 tablets per day for a month in the morning and evening each day\")\n",
    "print(predictions)"
   ]
  },
  {
   "cell_type": "code",
   "execution_count": 43,
   "metadata": {},
   "outputs": [
    {
     "name": "stdout",
     "output_type": "stream",
     "text": [
      "[['Method'], ['Qty'], ['Form'], ['PO'], ['QID'], ['FOR'], ['Qty'], ['PeriodUnit']]\n"
     ]
    }
   ],
   "source": [
    "prediction = predict(\"Amoxcicillin QID 30 tablets\")\n",
    "print(predictions)"
   ]
  },
  {
   "cell_type": "code",
   "execution_count": 44,
   "metadata": {},
   "outputs": [
    {
     "name": "stdout",
     "output_type": "stream",
     "text": [
      "[['Method'], ['Qty'], ['Form'], ['PO'], ['QID'], ['FOR'], ['Qty'], ['PeriodUnit']]\n"
     ]
    }
   ],
   "source": [
    "prediction = predict(\"take 3 tabs TID for 90 days with food\")\n",
    "print(predictions)"
   ]
  },
  {
   "cell_type": "code",
   "execution_count": 45,
   "metadata": {},
   "outputs": [
    {
     "name": "stdout",
     "output_type": "stream",
     "text": [
      "[['Method'], ['Qty'], ['Form'], ['PO'], ['QID'], ['FOR'], ['Qty'], ['PeriodUnit']]\n"
     ]
    }
   ],
   "source": [
    "prediction = predict(\"with food take 3 tablets per day for 90 days\")\n",
    "print(predictions)"
   ]
  },
  {
   "cell_type": "code",
   "execution_count": 46,
   "metadata": {},
   "outputs": [
    {
     "name": "stdout",
     "output_type": "stream",
     "text": [
      "[['Method'], ['Qty'], ['Form'], ['PO'], ['QID'], ['FOR'], ['Qty'], ['PeriodUnit']]\n"
     ]
    }
   ],
   "source": [
    "prediction = predict(\"with food take 3 tablets per week for 90 weeks\")\n",
    "print(predictions)"
   ]
  },
  {
   "cell_type": "code",
   "execution_count": 47,
   "metadata": {},
   "outputs": [
    {
     "name": "stdout",
     "output_type": "stream",
     "text": [
      "[['Method'], ['Qty'], ['Form'], ['PO'], ['QID'], ['FOR'], ['Qty'], ['PeriodUnit']]\n"
     ]
    }
   ],
   "source": [
    "prediction = predict(\"take 2-4 tabs\")\n",
    "print(predictions)"
   ]
  },
  {
   "cell_type": "code",
   "execution_count": 48,
   "metadata": {},
   "outputs": [
    {
     "name": "stdout",
     "output_type": "stream",
     "text": [
      "[['Method'], ['Qty'], ['Form'], ['PO'], ['QID'], ['FOR'], ['Qty'], ['PeriodUnit']]\n"
     ]
    }
   ],
   "source": [
    "prediction = predict(\"take 2 to 4 tabs\")\n",
    "print(predictions)"
   ]
  },
  {
   "cell_type": "code",
   "execution_count": 49,
   "metadata": {},
   "outputs": [
    {
     "name": "stdout",
     "output_type": "stream",
     "text": [
      "[['Method'], ['Qty'], ['Form'], ['PO'], ['QID'], ['FOR'], ['Qty'], ['PeriodUnit']]\n"
     ]
    }
   ],
   "source": [
    "prediction = predict(\"take two to four tabs\")\n",
    "print(predictions)"
   ]
  },
  {
   "cell_type": "code",
   "execution_count": 50,
   "metadata": {},
   "outputs": [
    {
     "name": "stdout",
     "output_type": "stream",
     "text": [
      "[['Method'], ['Qty'], ['Form'], ['PO'], ['QID'], ['FOR'], ['Qty'], ['PeriodUnit']]\n"
     ]
    }
   ],
   "source": [
    "prediction = predict(\"take 2-4 tabs for 8 to 9 days\")\n",
    "print(predictions)"
   ]
  },
  {
   "cell_type": "code",
   "execution_count": 51,
   "metadata": {},
   "outputs": [
    {
     "name": "stdout",
     "output_type": "stream",
     "text": [
      "[['Method'], ['Qty'], ['Form'], ['PO'], ['QID'], ['FOR'], ['Qty'], ['PeriodUnit']]\n"
     ]
    }
   ],
   "source": [
    "prediction = predict(\"take 20 tabs every 6 to 8 days\")\n",
    "print(predictions)"
   ]
  },
  {
   "cell_type": "code",
   "execution_count": 52,
   "metadata": {},
   "outputs": [
    {
     "name": "stdout",
     "output_type": "stream",
     "text": [
      "[['Method'], ['Qty'], ['Form'], ['PO'], ['QID'], ['FOR'], ['Qty'], ['PeriodUnit']]\n"
     ]
    }
   ],
   "source": [
    "prediction = predict(\"take 2 tabs every 4 to 6 days\")\n",
    "print(predictions)"
   ]
  },
  {
   "cell_type": "code",
   "execution_count": 53,
   "metadata": {},
   "outputs": [
    {
     "name": "stdout",
     "output_type": "stream",
     "text": [
      "[['Method'], ['Qty'], ['Form'], ['PO'], ['QID'], ['FOR'], ['Qty'], ['PeriodUnit']]\n"
     ]
    }
   ],
   "source": [
    "prediction = predict(\"take 2 tabs every 2 to 10 weeks\")\n",
    "print(predictions)"
   ]
  },
  {
   "cell_type": "code",
   "execution_count": 54,
   "metadata": {},
   "outputs": [
    {
     "name": "stdout",
     "output_type": "stream",
     "text": [
      "[['Method'], ['Qty'], ['Form'], ['PO'], ['QID'], ['FOR'], ['Qty'], ['PeriodUnit']]\n"
     ]
    }
   ],
   "source": [
    "prediction = predict(\"take 2 tabs every 4 to 6 days\")\n",
    "print(predictions)"
   ]
  },
  {
   "cell_type": "code",
   "execution_count": 55,
   "metadata": {},
   "outputs": [
    {
     "name": "stdout",
     "output_type": "stream",
     "text": [
      "[['Method'], ['Qty'], ['Form'], ['PO'], ['QID'], ['FOR'], ['Qty'], ['PeriodUnit']]\n"
     ]
    }
   ],
   "source": [
    "prediction = predict(\"take 2 tabs every 2 to 10 months\")\n",
    "print(predictions)"
   ]
  },
  {
   "cell_type": "code",
   "execution_count": 56,
   "metadata": {},
   "outputs": [
    {
     "name": "stdout",
     "output_type": "stream",
     "text": [
      "[['Method'], ['Qty'], ['Form'], ['PO'], ['QID'], ['FOR'], ['Qty'], ['PeriodUnit']]\n"
     ]
    }
   ],
   "source": [
    "prediction = predict(\"every 60 mins\")\n",
    "print(predictions)"
   ]
  },
  {
   "cell_type": "code",
   "execution_count": 57,
   "metadata": {},
   "outputs": [
    {
     "name": "stdout",
     "output_type": "stream",
     "text": [
      "[['Method'], ['Qty'], ['Form'], ['PO'], ['QID'], ['FOR'], ['Qty'], ['PeriodUnit']]\n"
     ]
    }
   ],
   "source": [
    "prediction = predict(\"every 10 mins\")\n",
    "print(predictions)"
   ]
  },
  {
   "cell_type": "code",
   "execution_count": 58,
   "metadata": {},
   "outputs": [
    {
     "name": "stdout",
     "output_type": "stream",
     "text": [
      "[['Method'], ['Qty'], ['Form'], ['PO'], ['QID'], ['FOR'], ['Qty'], ['PeriodUnit']]\n"
     ]
    }
   ],
   "source": [
    "prediction = predict(\"every two to four months\")\n",
    "print(predictions)"
   ]
  },
  {
   "cell_type": "code",
   "execution_count": 59,
   "metadata": {},
   "outputs": [
    {
     "name": "stdout",
     "output_type": "stream",
     "text": [
      "[['Method'], ['Qty'], ['Form'], ['PO'], ['QID'], ['FOR'], ['Qty'], ['PeriodUnit']]\n"
     ]
    }
   ],
   "source": [
    "prediction = predict(\"take 2 tabs every 3 to 4 days\")\n",
    "print(predictions)"
   ]
  },
  {
   "cell_type": "code",
   "execution_count": 60,
   "metadata": {},
   "outputs": [
    {
     "name": "stdout",
     "output_type": "stream",
     "text": [
      "[['Method'], ['Qty'], ['Form'], ['PO'], ['QID'], ['FOR'], ['Qty'], ['PeriodUnit']]\n"
     ]
    }
   ],
   "source": [
    "prediction = predict(\"every 3 to 4 days take 20 tabs\")\n",
    "print(predictions)"
   ]
  },
  {
   "cell_type": "code",
   "execution_count": 61,
   "metadata": {},
   "outputs": [
    {
     "name": "stdout",
     "output_type": "stream",
     "text": [
      "[['Method'], ['Qty'], ['Form'], ['PO'], ['QID'], ['FOR'], ['Qty'], ['PeriodUnit']]\n"
     ]
    }
   ],
   "source": [
    "prediction = predict(\"once in every 3 days take 3 tabs\")\n",
    "print(predictions)"
   ]
  },
  {
   "cell_type": "code",
   "execution_count": 62,
   "metadata": {},
   "outputs": [
    {
     "name": "stdout",
     "output_type": "stream",
     "text": [
      "[['Method'], ['Qty'], ['Form'], ['PO'], ['QID'], ['FOR'], ['Qty'], ['PeriodUnit']]\n"
     ]
    }
   ],
   "source": [
    "prediction = predict(\"take 3 tabs once in every 3 days\")\n",
    "print(predictions)"
   ]
  },
  {
   "cell_type": "code",
   "execution_count": 63,
   "metadata": {},
   "outputs": [
    {
     "name": "stdout",
     "output_type": "stream",
     "text": [
      "[['Method'], ['Qty'], ['Form'], ['PO'], ['QID'], ['FOR'], ['Qty'], ['PeriodUnit']]\n"
     ]
    }
   ],
   "source": [
    "prediction = predict(\"orally take 20 tabs every 4-6 weeks\")\n",
    "print(predictions)"
   ]
  },
  {
   "cell_type": "code",
   "execution_count": 64,
   "metadata": {},
   "outputs": [
    {
     "name": "stdout",
     "output_type": "stream",
     "text": [
      "[['Method'], ['Qty'], ['Form'], ['PO'], ['QID'], ['FOR'], ['Qty'], ['PeriodUnit']]\n"
     ]
    }
   ],
   "source": [
    "prediction = predict(\"10 tabs x 2 days\")\n",
    "print(predictions)"
   ]
  },
  {
   "cell_type": "code",
   "execution_count": 65,
   "metadata": {},
   "outputs": [
    {
     "name": "stdout",
     "output_type": "stream",
     "text": [
      "[['Method'], ['Qty'], ['Form'], ['PO'], ['QID'], ['FOR'], ['Qty'], ['PeriodUnit']]\n"
     ]
    }
   ],
   "source": [
    "prediction = predict(\"3 capsule x 15 days\")\n",
    "print(predictions)"
   ]
  },
  {
   "cell_type": "code",
   "execution_count": 66,
   "metadata": {},
   "outputs": [
    {
     "name": "stdout",
     "output_type": "stream",
     "text": [
      "[['Method'], ['Qty'], ['Form'], ['PO'], ['QID'], ['FOR'], ['Qty'], ['PeriodUnit']]\n"
     ]
    }
   ],
   "source": [
    "prediction = predict(\"10 tabs\")\n",
    "print(predictions)"
   ]
  }
 ],
 "metadata": {
  "kernelspec": {
   "display_name": "Python 3 (ipykernel)",
   "language": "python",
   "name": "python3"
  },
  "language_info": {
   "codemirror_mode": {
    "name": "ipython",
    "version": 3
   },
   "file_extension": ".py",
   "mimetype": "text/x-python",
   "name": "python",
   "nbconvert_exporter": "python",
   "pygments_lexer": "ipython3",
   "version": "3.9.7"
  }
 },
 "nbformat": 4,
 "nbformat_minor": 2
}
